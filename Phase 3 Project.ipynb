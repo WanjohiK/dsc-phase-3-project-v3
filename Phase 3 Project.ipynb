{
 "cells": [
  {
   "cell_type": "markdown",
   "id": "6bb15b9f8ea0b8d1",
   "metadata": {},
   "source": [
    "# Predicting H1N1 Vaccination Patterns Using Machine Learning"
   ]
  },
  {
   "cell_type": "markdown",
   "id": "6b568c12097691ec",
   "metadata": {},
   "source": [
    "## 1. Introduction\n",
    "\n",
    "The emergence of infectious diseases has been a significant public health concern worldwide. Vaccination plays a crucial role in controlling the spread of infectious diseases and mitigating their impact on society. \n",
    "\n",
    "One such outbreak, the H1N1 influenza pandemic of 2009, highlighted the importance of understanding vaccination behavior to improve immunization strategies.\n",
    "\n",
    "In response to the 2009 H1N1 pandemic, governments and health organizations launched extensive vaccination campaigns to curb the spread of the virus. \n",
    "\n",
    "However, not all individuals chose to receive the vaccine, leading to variations in vaccine uptake across different demographics. \n",
    "\n",
    "Understanding the factors that influence vaccination behavior can help public health authorities design targeted campaigns, improve public trust in vaccines, and enhance overall vaccination rates in future pandemics.\n",
    "\n",
    "This study aims to build a machine learning classification model to predict whether an individual received the H1N1 vaccine based on demographic, behavioral, and opinion-based survey data collected in the National 2009 H1N1 Flu Survey.\n",
    "By leveraging data-driven insights, this research can provide valuable recommendations to policymakers and healthcare organizations on increasing vaccine uptake."
   ]
  },
  {
   "cell_type": "markdown",
   "id": "9b839e7d4dee23c6",
   "metadata": {},
   "source": [
    "## 2. Business Understanding\n",
    "\n",
    "The ability to predict vaccine uptake is essential for public health agencies, government bodies, and healthcare providers. These stakeholders rely on data-driven insights to optimize vaccination campaigns, improve outreach efforts, and allocate resources efficiently. Understanding the key factors that drive or hinder vaccination adoption enables targeted strategies that can increase immunization rates and reduce disease spread.\n",
    "\n",
    "### Stakeholders\n",
    "\n",
    "* Public Health Organizations (e.g., CDC, WHO): These organizations can use predictive models to identify high-risk populations and strategize vaccination drives.\n",
    "\n",
    "* Government Agencies: Understanding vaccination behavior helps formulate better policies to improve vaccine access and reduce misinformation.\n",
    "\n",
    "* Healthcare Providers & Hospitals: Identifying individuals who are less likely to get vaccinated allows healthcare facilities to engage in proactive education and intervention.\n",
    "\n",
    "* Academic Researchers & Data Scientists: Insights derived from machine learning models can contribute to epidemiological research and improve future pandemic responses.\n",
    "\n",
    "* Pharmaceutical Companies: Understanding public attitudes toward vaccines can help manufacturers improve vaccine outreach and distribution.\n",
    "\n",
    "### Key Business Problem\n",
    "\n",
    "Many individuals hesitate to receive vaccines due to concerns about effectiveness, potential side effects, lack of knowledge, or misinformation. To address these challenges, we seek to answer the following questions:\n",
    "\n",
    "1. What patterns or trends were observed in the demographic and behavioral characteristics of individuals who received the H1N1 vaccine versus those who did not?(Exploratory Data Analysis)\n",
    "\n",
    "2. Is there a significant difference in H1N1 vaccine uptake between individuals with different levels of education (e.g., no high school, high school graduate, college degree, etc.)?(Hypothesis testing)\n",
    "\n",
    "3. Which machine learning models is best for predicting the likelihood of an individual receiving the H1N1 vaccine, incorporating demographic and behavioral data?(Modeling)\n",
    "\n",
    "4. What were the most important features (demographic, behavioral, and attitudinal) for predicting H1N1 vaccine uptake using machine learning models? (Feature Importance)\n",
    "\n",
    "By addressing these questions, this study provides actionable insights that stakeholders can use to enhance vaccination campaigns, improve public trust, and prepare for future pandemics."
   ]
  },
  {
   "cell_type": "markdown",
   "id": "86181c9c4ea040ab",
   "metadata": {},
   "source": [
    "## 3. Data Understanding\n",
    "\n",
    "The dataset used in this study is sourced from the National 2009 H1N1 Flu Survey, conducted by the U.S. National Center for Health Statistics. It consists of responses from individuals across various demographic backgrounds and captures behavioral patterns, health conditions, and personal opinions regarding vaccination.\n",
    "\n",
    "### Dataset Overview\n",
    "\n",
    "The dataset contains:\n",
    "\n",
    "* 36 feature columns representing different attributes of survey respondents.\n",
    "\n",
    "* 1 target variable (h1n1_vaccine) indicating whether an individual received the H1N1 vaccine (binary: 0 = No, 1 = Yes).\n",
    "\n",
    "* A mix of numerical, categorical, and binary variables related to demographics, health, and opinions on vaccines.\n",
    "\n",
    "#### Feature Categories\n",
    "\n",
    "The dataset includes a wide range of variables grouped into the following categories:\n",
    "\n",
    "1. Demographic Information:\n",
    "\n",
    "Age group, education level, race, gender, marital status, income level, and employment status.\n",
    "\n",
    "2. Health-Related Information:\n",
    "\n",
    "Presence of chronic medical conditions, healthcare worker status, household composition (number of adults and children).\n",
    "\n",
    "3. Behavioral Factors:\n",
    "\n",
    "Actions taken to prevent illness (e.g., avoiding large gatherings, wearing face masks, using hand sanitizers).\n",
    "\n",
    "4. Opinion-Based Factors:\n",
    "\n",
    "Perceptions of vaccine effectiveness, risk of contracting H1N1, and concerns about vaccine side effects.\n",
    "\n",
    "5. External Influences:\n",
    "\n",
    "Whether a doctor recommended the vaccine, whether the respondent has health insurance.\n",
    "\n",
    "\n",
    "### Target Variable\n",
    "\n",
    "* h1n1_vaccine (Binary: 1 = Vaccinated, 0 = Not Vaccinated)\n",
    "\n",
    "* This serves as the dependent variable for the classification model.\n",
    "\n",
    "\n",
    "### Data Distribution & Summary\n",
    "\n",
    "Before proceeding with modeling, we will analyze the dataset to identify potential issues:\n",
    "\n",
    "* Missing Data: Some features, such as employment industry and occupation, contain missing values and require imputation.\n",
    "\n",
    "* Imbalanced Classes: The proportion of vaccinated vs. non-vaccinated individuals may be skewed, requiring balancing techniques like SMOTE (Synthetic Minority Over-sampling Technique) or class weighting.\n",
    "\n",
    "* Feature Correlations: Understanding relationships between features helps in feature selection and engineering.\n",
    "\n",
    "* Categorical Encoding Needs: Variables like education, marital status, and race require encoding for machine learning models.\n",
    "\n",
    "By performing a thorough data exploration, we ensure that the dataset is well-prepared for training predictive models, maximizing the accuracy and reliability of vaccination uptake predictions.\n",
    "\n"
   ]
  },
  {
   "cell_type": "markdown",
   "id": "3e25c02d4aa541c0",
   "metadata": {},
   "source": [
    "# 4. Data Preparation "
   ]
  },
  {
   "cell_type": "markdown",
   "id": "e6befa0fbf1dfc7b",
   "metadata": {},
   "source": [
    " 1. Data Cleaning\n",
    "\n",
    "    Missing Values: The research addressed missing values in both features and labels.\n",
    "    Features like h1n1_concern, h1n1_knowledge, or opinion_h1n1_vacc_effective were imputed with the mode (most common value) to ensure no data was lost.\n",
    "\n",
    "    For binary columns like behavioral_antiviral_meds, chronic_med_condition, and others, missing values were treated as 0 (No) because they likely indicate non-participation in those behaviors or conditions.\n",
    "\n",
    "    Inconsistent Categories: The research also ensured that categorical features (like age_group, education, race, income_poverty) had consistent values by checking for spelling errors or varied formats, such as \"Below Poverty\" vs. \"< $25,000\". This helped avoid errors during analysis.\n",
    "\n",
    "2. Feature Engineering\n",
    "\n",
    "    Interaction Features: The research combined age_group and education to create a new feature that captured how vaccination decisions might vary based on both factors. \n",
    "    \n",
    "    Similarly, health_insurance and chronic_med_condition were combined to understand the influence of healthcare access on vaccination behavior.\n",
    "\n",
    "    Health Behavior Index: The various behavioral_* features were combined into a health-conscious behavior index. This index was created by summing or averaging features like behavioral_wash_hands, behavioral_face_mask, and behavioral_avoidance to reflect overall health behavior.\n",
    "\n",
    "3. Categorical Encoding\n",
    "\n",
    "    One-Hot Encoding: The research used one-hot encoding for categorical variables like age_group, education, race, and marital_status, as these were non-ordinal.\n",
    "\n",
    "    For example, education was encoded into multiple binary columns like \"High School\", \"Bachelor's\", \"Master's\", etc.\n",
    "   \n",
    "    Label Encoding: For ordinal variables like opinion_h1n1_vacc_effective, where higher values indicated stronger beliefs in the vaccine’s effectiveness, label encoding was applied to convert them into numerical values.\n",
    "\n",
    "4. Feature Scaling\n",
    "\n",
    "    Scaling Numeric Features: The research scaled numeric features like household_adults, household_children, and income_poverty using standard scaling (mean = 0, variance = 1), as these features were used in distance-based models like logistic regression.\n",
    "\n",
    "    Log Transformation: If features like income_poverty had a skewed distribution, the research applied a logarithmic transformation to make the data more normally distributed and reduce bias in the models.\n",
    "\n",
    "5. Handling Class Imbalance\n",
    "\n",
    "    Target Distribution: Since the research involved predicting vaccination behaviors, it identified a class imbalance (e.g., fewer vaccinated people than unvaccinated). \n",
    "\n",
    "    To address this:\n",
    "    Resampling was used to oversample the minority class using SMOTE (Synthetic Minority Over-sampling Technique), ensuring better model performance.\n",
    "\n",
    "    For models like logistic regression, class weights were adjusted to account for this imbalance.\n",
    "6. Data Splitting\n",
    "\n",
    "    Train-Test Split: The research divided the data into training and testing sets using an 80/20 split, ensuring that both H1N1 and seasonal flu vaccine labels were represented in both sets.\n",
    "\n",
    "    Cross-Validation: 5-fold cross-validation was implemented to ensure the model’s performance was consistent and generalizable, avoiding overfitting to a specific training set."
   ]
  },
  {
   "cell_type": "code",
   "id": "92cf2853bb80e58f",
   "metadata": {
    "ExecuteTime": {
     "end_time": "2025-02-23T03:20:13.508206Z",
     "start_time": "2025-02-23T03:20:13.501936Z"
    }
   },
   "source": [
    "# importing libraries\n",
    "import pandas as pd\n",
    "import numpy as np\n",
    "import scipy.stats as stats\n",
    "import matplotlib.pyplot as plt\n",
    "import seaborn as sns\n",
    "from sklearn.tree import DecisionTreeClassifier\n",
    "from sklearn.model_selection import train_test_split\n",
    "from sklearn import tree\n",
    "from sklearn import metrics\n",
    "from sklearn.metrics import roc_auc_score\n",
    "import xgboost as xgb\n",
    "from sklearn import preprocessing\n",
    "from sklearn.model_selection import GridSearchCV\n",
    "from sklearn.model_selection import learning_curve\n",
    "from sklearn import svm\n",
    "from sklearn.preprocessing import LabelEncoder\n",
    "from sklearn.model_selection import train_test_split, RandomizedSearchCV\n",
    "from sklearn.ensemble import RandomForestClassifier\n",
    "from sklearn import tree\n",
    "from sklearn.tree import DecisionTreeClassifier, plot_tree\n",
    "from sklearn.metrics import accuracy_score, confusion_matrix, classification_report\n",
    "from sklearn.preprocessing import StandardScaler, OneHotEncoder\n",
    "from sklearn.linear_model import LogisticRegression\n",
    "from sklearn.metrics import accuracy_score, confusion_matrix, classification_report\n"
   ],
   "outputs": [],
   "execution_count": 216
  },
  {
   "cell_type": "markdown",
   "id": "edf7ae7ef881e093",
   "metadata": {},
   "source": [
    "We first merge Training data with training labels since they have a commom column. However, for test data, respondent_id do not match with the rest of the datasets implying that the data will be cleaned separately"
   ]
  },
  {
   "cell_type": "code",
   "id": "4329fc0d1094c0b5",
   "metadata": {
    "ExecuteTime": {
     "end_time": "2025-02-23T03:20:13.658845Z",
     "start_time": "2025-02-23T03:20:13.510561Z"
    }
   },
   "source": [
    "#load datasets\n",
    "features = pd.read_csv(\"D:/Phase 3 final project/training_set_features.csv\")\n",
    "\n",
    "features.head()"
   ],
   "outputs": [
    {
     "data": {
      "text/plain": [
       "   respondent_id  h1n1_concern  h1n1_knowledge  behavioral_antiviral_meds  \\\n",
       "0              0           1.0             0.0                        0.0   \n",
       "1              1           3.0             2.0                        0.0   \n",
       "2              2           1.0             1.0                        0.0   \n",
       "3              3           1.0             1.0                        0.0   \n",
       "4              4           2.0             1.0                        0.0   \n",
       "\n",
       "   behavioral_avoidance  behavioral_face_mask  behavioral_wash_hands  \\\n",
       "0                   0.0                   0.0                    0.0   \n",
       "1                   1.0                   0.0                    1.0   \n",
       "2                   1.0                   0.0                    0.0   \n",
       "3                   1.0                   0.0                    1.0   \n",
       "4                   1.0                   0.0                    1.0   \n",
       "\n",
       "   behavioral_large_gatherings  behavioral_outside_home  \\\n",
       "0                          0.0                      1.0   \n",
       "1                          0.0                      1.0   \n",
       "2                          0.0                      0.0   \n",
       "3                          1.0                      0.0   \n",
       "4                          1.0                      0.0   \n",
       "\n",
       "   behavioral_touch_face  ...             income_poverty  marital_status  \\\n",
       "0                    1.0  ...              Below Poverty     Not Married   \n",
       "1                    1.0  ...              Below Poverty     Not Married   \n",
       "2                    0.0  ...  <= $75,000, Above Poverty     Not Married   \n",
       "3                    0.0  ...              Below Poverty     Not Married   \n",
       "4                    1.0  ...  <= $75,000, Above Poverty         Married   \n",
       "\n",
       "   rent_or_own   employment_status  hhs_geo_region                census_msa  \\\n",
       "0          Own  Not in Labor Force        oxchjgsf                   Non-MSA   \n",
       "1         Rent            Employed        bhuqouqj  MSA, Not Principle  City   \n",
       "2          Own            Employed        qufhixun  MSA, Not Principle  City   \n",
       "3         Rent  Not in Labor Force        lrircsnp       MSA, Principle City   \n",
       "4          Own            Employed        qufhixun  MSA, Not Principle  City   \n",
       "\n",
       "   household_adults  household_children  employment_industry  \\\n",
       "0               0.0                 0.0                  NaN   \n",
       "1               0.0                 0.0             pxcmvdjn   \n",
       "2               2.0                 0.0             rucpziij   \n",
       "3               0.0                 0.0                  NaN   \n",
       "4               1.0                 0.0             wxleyezf   \n",
       "\n",
       "   employment_occupation  \n",
       "0                    NaN  \n",
       "1               xgwztkwe  \n",
       "2               xtkaffoo  \n",
       "3                    NaN  \n",
       "4               emcorrxb  \n",
       "\n",
       "[5 rows x 36 columns]"
      ],
      "text/html": [
       "<div>\n",
       "<style scoped>\n",
       "    .dataframe tbody tr th:only-of-type {\n",
       "        vertical-align: middle;\n",
       "    }\n",
       "\n",
       "    .dataframe tbody tr th {\n",
       "        vertical-align: top;\n",
       "    }\n",
       "\n",
       "    .dataframe thead th {\n",
       "        text-align: right;\n",
       "    }\n",
       "</style>\n",
       "<table border=\"1\" class=\"dataframe\">\n",
       "  <thead>\n",
       "    <tr style=\"text-align: right;\">\n",
       "      <th></th>\n",
       "      <th>respondent_id</th>\n",
       "      <th>h1n1_concern</th>\n",
       "      <th>h1n1_knowledge</th>\n",
       "      <th>behavioral_antiviral_meds</th>\n",
       "      <th>behavioral_avoidance</th>\n",
       "      <th>behavioral_face_mask</th>\n",
       "      <th>behavioral_wash_hands</th>\n",
       "      <th>behavioral_large_gatherings</th>\n",
       "      <th>behavioral_outside_home</th>\n",
       "      <th>behavioral_touch_face</th>\n",
       "      <th>...</th>\n",
       "      <th>income_poverty</th>\n",
       "      <th>marital_status</th>\n",
       "      <th>rent_or_own</th>\n",
       "      <th>employment_status</th>\n",
       "      <th>hhs_geo_region</th>\n",
       "      <th>census_msa</th>\n",
       "      <th>household_adults</th>\n",
       "      <th>household_children</th>\n",
       "      <th>employment_industry</th>\n",
       "      <th>employment_occupation</th>\n",
       "    </tr>\n",
       "  </thead>\n",
       "  <tbody>\n",
       "    <tr>\n",
       "      <th>0</th>\n",
       "      <td>0</td>\n",
       "      <td>1.0</td>\n",
       "      <td>0.0</td>\n",
       "      <td>0.0</td>\n",
       "      <td>0.0</td>\n",
       "      <td>0.0</td>\n",
       "      <td>0.0</td>\n",
       "      <td>0.0</td>\n",
       "      <td>1.0</td>\n",
       "      <td>1.0</td>\n",
       "      <td>...</td>\n",
       "      <td>Below Poverty</td>\n",
       "      <td>Not Married</td>\n",
       "      <td>Own</td>\n",
       "      <td>Not in Labor Force</td>\n",
       "      <td>oxchjgsf</td>\n",
       "      <td>Non-MSA</td>\n",
       "      <td>0.0</td>\n",
       "      <td>0.0</td>\n",
       "      <td>NaN</td>\n",
       "      <td>NaN</td>\n",
       "    </tr>\n",
       "    <tr>\n",
       "      <th>1</th>\n",
       "      <td>1</td>\n",
       "      <td>3.0</td>\n",
       "      <td>2.0</td>\n",
       "      <td>0.0</td>\n",
       "      <td>1.0</td>\n",
       "      <td>0.0</td>\n",
       "      <td>1.0</td>\n",
       "      <td>0.0</td>\n",
       "      <td>1.0</td>\n",
       "      <td>1.0</td>\n",
       "      <td>...</td>\n",
       "      <td>Below Poverty</td>\n",
       "      <td>Not Married</td>\n",
       "      <td>Rent</td>\n",
       "      <td>Employed</td>\n",
       "      <td>bhuqouqj</td>\n",
       "      <td>MSA, Not Principle  City</td>\n",
       "      <td>0.0</td>\n",
       "      <td>0.0</td>\n",
       "      <td>pxcmvdjn</td>\n",
       "      <td>xgwztkwe</td>\n",
       "    </tr>\n",
       "    <tr>\n",
       "      <th>2</th>\n",
       "      <td>2</td>\n",
       "      <td>1.0</td>\n",
       "      <td>1.0</td>\n",
       "      <td>0.0</td>\n",
       "      <td>1.0</td>\n",
       "      <td>0.0</td>\n",
       "      <td>0.0</td>\n",
       "      <td>0.0</td>\n",
       "      <td>0.0</td>\n",
       "      <td>0.0</td>\n",
       "      <td>...</td>\n",
       "      <td>&lt;= $75,000, Above Poverty</td>\n",
       "      <td>Not Married</td>\n",
       "      <td>Own</td>\n",
       "      <td>Employed</td>\n",
       "      <td>qufhixun</td>\n",
       "      <td>MSA, Not Principle  City</td>\n",
       "      <td>2.0</td>\n",
       "      <td>0.0</td>\n",
       "      <td>rucpziij</td>\n",
       "      <td>xtkaffoo</td>\n",
       "    </tr>\n",
       "    <tr>\n",
       "      <th>3</th>\n",
       "      <td>3</td>\n",
       "      <td>1.0</td>\n",
       "      <td>1.0</td>\n",
       "      <td>0.0</td>\n",
       "      <td>1.0</td>\n",
       "      <td>0.0</td>\n",
       "      <td>1.0</td>\n",
       "      <td>1.0</td>\n",
       "      <td>0.0</td>\n",
       "      <td>0.0</td>\n",
       "      <td>...</td>\n",
       "      <td>Below Poverty</td>\n",
       "      <td>Not Married</td>\n",
       "      <td>Rent</td>\n",
       "      <td>Not in Labor Force</td>\n",
       "      <td>lrircsnp</td>\n",
       "      <td>MSA, Principle City</td>\n",
       "      <td>0.0</td>\n",
       "      <td>0.0</td>\n",
       "      <td>NaN</td>\n",
       "      <td>NaN</td>\n",
       "    </tr>\n",
       "    <tr>\n",
       "      <th>4</th>\n",
       "      <td>4</td>\n",
       "      <td>2.0</td>\n",
       "      <td>1.0</td>\n",
       "      <td>0.0</td>\n",
       "      <td>1.0</td>\n",
       "      <td>0.0</td>\n",
       "      <td>1.0</td>\n",
       "      <td>1.0</td>\n",
       "      <td>0.0</td>\n",
       "      <td>1.0</td>\n",
       "      <td>...</td>\n",
       "      <td>&lt;= $75,000, Above Poverty</td>\n",
       "      <td>Married</td>\n",
       "      <td>Own</td>\n",
       "      <td>Employed</td>\n",
       "      <td>qufhixun</td>\n",
       "      <td>MSA, Not Principle  City</td>\n",
       "      <td>1.0</td>\n",
       "      <td>0.0</td>\n",
       "      <td>wxleyezf</td>\n",
       "      <td>emcorrxb</td>\n",
       "    </tr>\n",
       "  </tbody>\n",
       "</table>\n",
       "<p>5 rows × 36 columns</p>\n",
       "</div>"
      ]
     },
     "execution_count": 217,
     "metadata": {},
     "output_type": "execute_result"
    }
   ],
   "execution_count": 217
  },
  {
   "cell_type": "code",
   "id": "d3e5c00ed389c046",
   "metadata": {
    "ExecuteTime": {
     "end_time": "2025-02-23T03:20:13.677095Z",
     "start_time": "2025-02-23T03:20:13.662237Z"
    }
   },
   "source": [
    "labels = pd.read_csv(\"D:/Phase 3 final project/training_set_labels.csv\")\n",
    "labels.head()"
   ],
   "outputs": [
    {
     "data": {
      "text/plain": [
       "   respondent_id  h1n1_vaccine  seasonal_vaccine\n",
       "0              0             0                 0\n",
       "1              1             0                 1\n",
       "2              2             0                 0\n",
       "3              3             0                 1\n",
       "4              4             0                 0"
      ],
      "text/html": [
       "<div>\n",
       "<style scoped>\n",
       "    .dataframe tbody tr th:only-of-type {\n",
       "        vertical-align: middle;\n",
       "    }\n",
       "\n",
       "    .dataframe tbody tr th {\n",
       "        vertical-align: top;\n",
       "    }\n",
       "\n",
       "    .dataframe thead th {\n",
       "        text-align: right;\n",
       "    }\n",
       "</style>\n",
       "<table border=\"1\" class=\"dataframe\">\n",
       "  <thead>\n",
       "    <tr style=\"text-align: right;\">\n",
       "      <th></th>\n",
       "      <th>respondent_id</th>\n",
       "      <th>h1n1_vaccine</th>\n",
       "      <th>seasonal_vaccine</th>\n",
       "    </tr>\n",
       "  </thead>\n",
       "  <tbody>\n",
       "    <tr>\n",
       "      <th>0</th>\n",
       "      <td>0</td>\n",
       "      <td>0</td>\n",
       "      <td>0</td>\n",
       "    </tr>\n",
       "    <tr>\n",
       "      <th>1</th>\n",
       "      <td>1</td>\n",
       "      <td>0</td>\n",
       "      <td>1</td>\n",
       "    </tr>\n",
       "    <tr>\n",
       "      <th>2</th>\n",
       "      <td>2</td>\n",
       "      <td>0</td>\n",
       "      <td>0</td>\n",
       "    </tr>\n",
       "    <tr>\n",
       "      <th>3</th>\n",
       "      <td>3</td>\n",
       "      <td>0</td>\n",
       "      <td>1</td>\n",
       "    </tr>\n",
       "    <tr>\n",
       "      <th>4</th>\n",
       "      <td>4</td>\n",
       "      <td>0</td>\n",
       "      <td>0</td>\n",
       "    </tr>\n",
       "  </tbody>\n",
       "</table>\n",
       "</div>"
      ]
     },
     "execution_count": 218,
     "metadata": {},
     "output_type": "execute_result"
    }
   ],
   "execution_count": 218
  },
  {
   "cell_type": "code",
   "id": "3e086e1d27864aac",
   "metadata": {
    "ExecuteTime": {
     "end_time": "2025-02-23T03:20:13.707352Z",
     "start_time": "2025-02-23T03:20:13.678345Z"
    }
   },
   "source": [
    "#merging the datasets on the 'respondent_id' column\n",
    "merged_data = pd.merge(labels, features, on='respondent_id', how='inner')\n",
    "merged_data.head()"
   ],
   "outputs": [
    {
     "data": {
      "text/plain": [
       "   respondent_id  h1n1_vaccine  seasonal_vaccine  h1n1_concern  \\\n",
       "0              0             0                 0           1.0   \n",
       "1              1             0                 1           3.0   \n",
       "2              2             0                 0           1.0   \n",
       "3              3             0                 1           1.0   \n",
       "4              4             0                 0           2.0   \n",
       "\n",
       "   h1n1_knowledge  behavioral_antiviral_meds  behavioral_avoidance  \\\n",
       "0             0.0                        0.0                   0.0   \n",
       "1             2.0                        0.0                   1.0   \n",
       "2             1.0                        0.0                   1.0   \n",
       "3             1.0                        0.0                   1.0   \n",
       "4             1.0                        0.0                   1.0   \n",
       "\n",
       "   behavioral_face_mask  behavioral_wash_hands  behavioral_large_gatherings  \\\n",
       "0                   0.0                    0.0                          0.0   \n",
       "1                   0.0                    1.0                          0.0   \n",
       "2                   0.0                    0.0                          0.0   \n",
       "3                   0.0                    1.0                          1.0   \n",
       "4                   0.0                    1.0                          1.0   \n",
       "\n",
       "   ...             income_poverty  marital_status  rent_or_own  \\\n",
       "0  ...              Below Poverty     Not Married          Own   \n",
       "1  ...              Below Poverty     Not Married         Rent   \n",
       "2  ...  <= $75,000, Above Poverty     Not Married          Own   \n",
       "3  ...              Below Poverty     Not Married         Rent   \n",
       "4  ...  <= $75,000, Above Poverty         Married          Own   \n",
       "\n",
       "    employment_status  hhs_geo_region                census_msa  \\\n",
       "0  Not in Labor Force        oxchjgsf                   Non-MSA   \n",
       "1            Employed        bhuqouqj  MSA, Not Principle  City   \n",
       "2            Employed        qufhixun  MSA, Not Principle  City   \n",
       "3  Not in Labor Force        lrircsnp       MSA, Principle City   \n",
       "4            Employed        qufhixun  MSA, Not Principle  City   \n",
       "\n",
       "   household_adults  household_children  employment_industry  \\\n",
       "0               0.0                 0.0                  NaN   \n",
       "1               0.0                 0.0             pxcmvdjn   \n",
       "2               2.0                 0.0             rucpziij   \n",
       "3               0.0                 0.0                  NaN   \n",
       "4               1.0                 0.0             wxleyezf   \n",
       "\n",
       "   employment_occupation  \n",
       "0                    NaN  \n",
       "1               xgwztkwe  \n",
       "2               xtkaffoo  \n",
       "3                    NaN  \n",
       "4               emcorrxb  \n",
       "\n",
       "[5 rows x 38 columns]"
      ],
      "text/html": [
       "<div>\n",
       "<style scoped>\n",
       "    .dataframe tbody tr th:only-of-type {\n",
       "        vertical-align: middle;\n",
       "    }\n",
       "\n",
       "    .dataframe tbody tr th {\n",
       "        vertical-align: top;\n",
       "    }\n",
       "\n",
       "    .dataframe thead th {\n",
       "        text-align: right;\n",
       "    }\n",
       "</style>\n",
       "<table border=\"1\" class=\"dataframe\">\n",
       "  <thead>\n",
       "    <tr style=\"text-align: right;\">\n",
       "      <th></th>\n",
       "      <th>respondent_id</th>\n",
       "      <th>h1n1_vaccine</th>\n",
       "      <th>seasonal_vaccine</th>\n",
       "      <th>h1n1_concern</th>\n",
       "      <th>h1n1_knowledge</th>\n",
       "      <th>behavioral_antiviral_meds</th>\n",
       "      <th>behavioral_avoidance</th>\n",
       "      <th>behavioral_face_mask</th>\n",
       "      <th>behavioral_wash_hands</th>\n",
       "      <th>behavioral_large_gatherings</th>\n",
       "      <th>...</th>\n",
       "      <th>income_poverty</th>\n",
       "      <th>marital_status</th>\n",
       "      <th>rent_or_own</th>\n",
       "      <th>employment_status</th>\n",
       "      <th>hhs_geo_region</th>\n",
       "      <th>census_msa</th>\n",
       "      <th>household_adults</th>\n",
       "      <th>household_children</th>\n",
       "      <th>employment_industry</th>\n",
       "      <th>employment_occupation</th>\n",
       "    </tr>\n",
       "  </thead>\n",
       "  <tbody>\n",
       "    <tr>\n",
       "      <th>0</th>\n",
       "      <td>0</td>\n",
       "      <td>0</td>\n",
       "      <td>0</td>\n",
       "      <td>1.0</td>\n",
       "      <td>0.0</td>\n",
       "      <td>0.0</td>\n",
       "      <td>0.0</td>\n",
       "      <td>0.0</td>\n",
       "      <td>0.0</td>\n",
       "      <td>0.0</td>\n",
       "      <td>...</td>\n",
       "      <td>Below Poverty</td>\n",
       "      <td>Not Married</td>\n",
       "      <td>Own</td>\n",
       "      <td>Not in Labor Force</td>\n",
       "      <td>oxchjgsf</td>\n",
       "      <td>Non-MSA</td>\n",
       "      <td>0.0</td>\n",
       "      <td>0.0</td>\n",
       "      <td>NaN</td>\n",
       "      <td>NaN</td>\n",
       "    </tr>\n",
       "    <tr>\n",
       "      <th>1</th>\n",
       "      <td>1</td>\n",
       "      <td>0</td>\n",
       "      <td>1</td>\n",
       "      <td>3.0</td>\n",
       "      <td>2.0</td>\n",
       "      <td>0.0</td>\n",
       "      <td>1.0</td>\n",
       "      <td>0.0</td>\n",
       "      <td>1.0</td>\n",
       "      <td>0.0</td>\n",
       "      <td>...</td>\n",
       "      <td>Below Poverty</td>\n",
       "      <td>Not Married</td>\n",
       "      <td>Rent</td>\n",
       "      <td>Employed</td>\n",
       "      <td>bhuqouqj</td>\n",
       "      <td>MSA, Not Principle  City</td>\n",
       "      <td>0.0</td>\n",
       "      <td>0.0</td>\n",
       "      <td>pxcmvdjn</td>\n",
       "      <td>xgwztkwe</td>\n",
       "    </tr>\n",
       "    <tr>\n",
       "      <th>2</th>\n",
       "      <td>2</td>\n",
       "      <td>0</td>\n",
       "      <td>0</td>\n",
       "      <td>1.0</td>\n",
       "      <td>1.0</td>\n",
       "      <td>0.0</td>\n",
       "      <td>1.0</td>\n",
       "      <td>0.0</td>\n",
       "      <td>0.0</td>\n",
       "      <td>0.0</td>\n",
       "      <td>...</td>\n",
       "      <td>&lt;= $75,000, Above Poverty</td>\n",
       "      <td>Not Married</td>\n",
       "      <td>Own</td>\n",
       "      <td>Employed</td>\n",
       "      <td>qufhixun</td>\n",
       "      <td>MSA, Not Principle  City</td>\n",
       "      <td>2.0</td>\n",
       "      <td>0.0</td>\n",
       "      <td>rucpziij</td>\n",
       "      <td>xtkaffoo</td>\n",
       "    </tr>\n",
       "    <tr>\n",
       "      <th>3</th>\n",
       "      <td>3</td>\n",
       "      <td>0</td>\n",
       "      <td>1</td>\n",
       "      <td>1.0</td>\n",
       "      <td>1.0</td>\n",
       "      <td>0.0</td>\n",
       "      <td>1.0</td>\n",
       "      <td>0.0</td>\n",
       "      <td>1.0</td>\n",
       "      <td>1.0</td>\n",
       "      <td>...</td>\n",
       "      <td>Below Poverty</td>\n",
       "      <td>Not Married</td>\n",
       "      <td>Rent</td>\n",
       "      <td>Not in Labor Force</td>\n",
       "      <td>lrircsnp</td>\n",
       "      <td>MSA, Principle City</td>\n",
       "      <td>0.0</td>\n",
       "      <td>0.0</td>\n",
       "      <td>NaN</td>\n",
       "      <td>NaN</td>\n",
       "    </tr>\n",
       "    <tr>\n",
       "      <th>4</th>\n",
       "      <td>4</td>\n",
       "      <td>0</td>\n",
       "      <td>0</td>\n",
       "      <td>2.0</td>\n",
       "      <td>1.0</td>\n",
       "      <td>0.0</td>\n",
       "      <td>1.0</td>\n",
       "      <td>0.0</td>\n",
       "      <td>1.0</td>\n",
       "      <td>1.0</td>\n",
       "      <td>...</td>\n",
       "      <td>&lt;= $75,000, Above Poverty</td>\n",
       "      <td>Married</td>\n",
       "      <td>Own</td>\n",
       "      <td>Employed</td>\n",
       "      <td>qufhixun</td>\n",
       "      <td>MSA, Not Principle  City</td>\n",
       "      <td>1.0</td>\n",
       "      <td>0.0</td>\n",
       "      <td>wxleyezf</td>\n",
       "      <td>emcorrxb</td>\n",
       "    </tr>\n",
       "  </tbody>\n",
       "</table>\n",
       "<p>5 rows × 38 columns</p>\n",
       "</div>"
      ]
     },
     "execution_count": 219,
     "metadata": {},
     "output_type": "execute_result"
    }
   ],
   "execution_count": 219
  },
  {
   "cell_type": "code",
   "id": "4b2e31e395e4f06",
   "metadata": {
    "ExecuteTime": {
     "end_time": "2025-02-23T03:20:13.752947Z",
     "start_time": "2025-02-23T03:20:13.709291Z"
    }
   },
   "source": [
    "merged_data.duplicated().sum()"
   ],
   "outputs": [
    {
     "data": {
      "text/plain": [
       "np.int64(0)"
      ]
     },
     "execution_count": 220,
     "metadata": {},
     "output_type": "execute_result"
    }
   ],
   "execution_count": 220
  },
  {
   "cell_type": "code",
   "id": "c54da1bfdf65d5e6",
   "metadata": {
    "ExecuteTime": {
     "end_time": "2025-02-23T03:20:13.762722Z",
     "start_time": "2025-02-23T03:20:13.754488Z"
    }
   },
   "source": [
    "merged_data.shape"
   ],
   "outputs": [
    {
     "data": {
      "text/plain": [
       "(26707, 38)"
      ]
     },
     "execution_count": 221,
     "metadata": {},
     "output_type": "execute_result"
    }
   ],
   "execution_count": 221
  },
  {
   "cell_type": "code",
   "id": "4800c36c71766472",
   "metadata": {
    "ExecuteTime": {
     "end_time": "2025-02-23T03:20:13.778969Z",
     "start_time": "2025-02-23T03:20:13.764449Z"
    }
   },
   "source": [
    "# List of columns to keep for predicting h1n1_vaccine\n",
    "#these are columns that have a direct effect on h1n1_vaccine\n",
    "columns_to_keep = [\n",
    "    'h1n1_vaccine', 'h1n1_concern', 'h1n1_knowledge',\n",
    "    'behavioral_antiviral_meds', 'behavioral_avoidance', 'behavioral_face_mask',\n",
    "    'behavioral_wash_hands', 'behavioral_large_gatherings', 'behavioral_outside_home',\n",
    "    'behavioral_touch_face', 'doctor_recc_h1n1', 'chronic_med_condition', 'child_under_6_months',\n",
    "    'health_worker', 'health_insurance', 'opinion_h1n1_vacc_effective', 'opinion_h1n1_risk',\n",
    "    'opinion_h1n1_sick_from_vacc', 'age_group', 'education', 'race', 'sex', 'income_poverty',\n",
    "    'marital_status', 'employment_status', 'hhs_geo_region', \n",
    "    'household_adults', 'household_children'\n",
    "]\n",
    "\n",
    "# Filter the dataset to keep only the necessary columns\n",
    "merged_data_h1n1 = merged_data[columns_to_keep]\n",
    "\n",
    "# Display the first few rows of the cleaned dataset\n",
    "vaccine_counts = merged_data_h1n1[\"h1n1_vaccine\"].value_counts()\n",
    "vaccine_counts\n"
   ],
   "outputs": [
    {
     "data": {
      "text/plain": [
       "h1n1_vaccine\n",
       "0    21033\n",
       "1     5674\n",
       "Name: count, dtype: int64"
      ]
     },
     "execution_count": 222,
     "metadata": {},
     "output_type": "execute_result"
    }
   ],
   "execution_count": 222
  },
  {
   "cell_type": "code",
   "id": "719ddfc53678155c",
   "metadata": {
    "ExecuteTime": {
     "end_time": "2025-02-23T03:20:13.801298Z",
     "start_time": "2025-02-23T03:20:13.780711Z"
    }
   },
   "source": [
    "#checking dataset information\n",
    "merged_data_h1n1.info()"
   ],
   "outputs": [
    {
     "name": "stdout",
     "output_type": "stream",
     "text": [
      "<class 'pandas.core.frame.DataFrame'>\n",
      "RangeIndex: 26707 entries, 0 to 26706\n",
      "Data columns (total 28 columns):\n",
      " #   Column                       Non-Null Count  Dtype  \n",
      "---  ------                       --------------  -----  \n",
      " 0   h1n1_vaccine                 26707 non-null  int64  \n",
      " 1   h1n1_concern                 26615 non-null  float64\n",
      " 2   h1n1_knowledge               26591 non-null  float64\n",
      " 3   behavioral_antiviral_meds    26636 non-null  float64\n",
      " 4   behavioral_avoidance         26499 non-null  float64\n",
      " 5   behavioral_face_mask         26688 non-null  float64\n",
      " 6   behavioral_wash_hands        26665 non-null  float64\n",
      " 7   behavioral_large_gatherings  26620 non-null  float64\n",
      " 8   behavioral_outside_home      26625 non-null  float64\n",
      " 9   behavioral_touch_face        26579 non-null  float64\n",
      " 10  doctor_recc_h1n1             24547 non-null  float64\n",
      " 11  chronic_med_condition        25736 non-null  float64\n",
      " 12  child_under_6_months         25887 non-null  float64\n",
      " 13  health_worker                25903 non-null  float64\n",
      " 14  health_insurance             14433 non-null  float64\n",
      " 15  opinion_h1n1_vacc_effective  26316 non-null  float64\n",
      " 16  opinion_h1n1_risk            26319 non-null  float64\n",
      " 17  opinion_h1n1_sick_from_vacc  26312 non-null  float64\n",
      " 18  age_group                    26707 non-null  object \n",
      " 19  education                    25300 non-null  object \n",
      " 20  race                         26707 non-null  object \n",
      " 21  sex                          26707 non-null  object \n",
      " 22  income_poverty               22284 non-null  object \n",
      " 23  marital_status               25299 non-null  object \n",
      " 24  employment_status            25244 non-null  object \n",
      " 25  hhs_geo_region               26707 non-null  object \n",
      " 26  household_adults             26458 non-null  float64\n",
      " 27  household_children           26458 non-null  float64\n",
      "dtypes: float64(19), int64(1), object(8)\n",
      "memory usage: 5.7+ MB\n"
     ]
    }
   ],
   "execution_count": 223
  },
  {
   "cell_type": "code",
   "id": "65f598cbfa0e3ebe",
   "metadata": {
    "ExecuteTime": {
     "end_time": "2025-02-23T03:20:13.811868Z",
     "start_time": "2025-02-23T03:20:13.805290Z"
    }
   },
   "source": [
    "merged_data_h1n1[\"hhs_geo_region\"].unique()"
   ],
   "outputs": [
    {
     "data": {
      "text/plain": [
       "array(['oxchjgsf', 'bhuqouqj', 'qufhixun', 'lrircsnp', 'atmpeygn',\n",
       "       'lzgpxyit', 'fpwskwrf', 'mlyzmhmf', 'dqpwygqj', 'kbazzjca'],\n",
       "      dtype=object)"
      ]
     },
     "execution_count": 224,
     "metadata": {},
     "output_type": "execute_result"
    }
   ],
   "execution_count": 224
  },
  {
   "cell_type": "code",
   "id": "2184a1223b4e4ea3",
   "metadata": {
    "ExecuteTime": {
     "end_time": "2025-02-23T03:20:13.842099Z",
     "start_time": "2025-02-23T03:20:13.813177Z"
    }
   },
   "source": [
    "#checking unique values\n",
    "for column in merged_data_h1n1:\n",
    "    unique_values = merged_data_h1n1[column].unique()\n",
    "    print(f\"{column}: {unique_values} \", '\\n')"
   ],
   "outputs": [
    {
     "name": "stdout",
     "output_type": "stream",
     "text": [
      "h1n1_vaccine: [0 1]  \n",
      "\n",
      "h1n1_concern: [ 1.  3.  2.  0. nan]  \n",
      "\n",
      "h1n1_knowledge: [ 0.  2.  1. nan]  \n",
      "\n",
      "behavioral_antiviral_meds: [ 0.  1. nan]  \n",
      "\n",
      "behavioral_avoidance: [ 0.  1. nan]  \n",
      "\n",
      "behavioral_face_mask: [ 0.  1. nan]  \n",
      "\n",
      "behavioral_wash_hands: [ 0.  1. nan]  \n",
      "\n",
      "behavioral_large_gatherings: [ 0.  1. nan]  \n",
      "\n",
      "behavioral_outside_home: [ 1.  0. nan]  \n",
      "\n",
      "behavioral_touch_face: [ 1.  0. nan]  \n",
      "\n",
      "doctor_recc_h1n1: [ 0. nan  1.]  \n",
      "\n",
      "chronic_med_condition: [ 0.  1. nan]  \n",
      "\n",
      "child_under_6_months: [ 0.  1. nan]  \n",
      "\n",
      "health_worker: [ 0.  1. nan]  \n",
      "\n",
      "health_insurance: [ 1. nan  0.]  \n",
      "\n",
      "opinion_h1n1_vacc_effective: [ 3.  5.  4.  2.  1. nan]  \n",
      "\n",
      "opinion_h1n1_risk: [ 1.  4.  3.  2.  5. nan]  \n",
      "\n",
      "opinion_h1n1_sick_from_vacc: [ 2.  4.  1.  5.  3. nan]  \n",
      "\n",
      "age_group: ['55 - 64 Years' '35 - 44 Years' '18 - 34 Years' '65+ Years'\n",
      " '45 - 54 Years']  \n",
      "\n",
      "education: ['< 12 Years' '12 Years' 'College Graduate' 'Some College' nan]  \n",
      "\n",
      "race: ['White' 'Black' 'Other or Multiple' 'Hispanic']  \n",
      "\n",
      "sex: ['Female' 'Male']  \n",
      "\n",
      "income_poverty: ['Below Poverty' '<= $75,000, Above Poverty' '> $75,000' nan]  \n",
      "\n",
      "marital_status: ['Not Married' 'Married' nan]  \n",
      "\n",
      "employment_status: ['Not in Labor Force' 'Employed' 'Unemployed' nan]  \n",
      "\n",
      "hhs_geo_region: ['oxchjgsf' 'bhuqouqj' 'qufhixun' 'lrircsnp' 'atmpeygn' 'lzgpxyit'\n",
      " 'fpwskwrf' 'mlyzmhmf' 'dqpwygqj' 'kbazzjca']  \n",
      "\n",
      "household_adults: [ 0.  2.  1.  3. nan]  \n",
      "\n",
      "household_children: [ 0.  3.  2.  1. nan]  \n",
      "\n"
     ]
    }
   ],
   "execution_count": 225
  },
  {
   "cell_type": "code",
   "id": "6eca4594b6eb8173",
   "metadata": {
    "ExecuteTime": {
     "end_time": "2025-02-23T03:20:13.859413Z",
     "start_time": "2025-02-23T03:20:13.843521Z"
    }
   },
   "source": [
    "merged_data_h1n1.isna().sum()"
   ],
   "outputs": [
    {
     "data": {
      "text/plain": [
       "h1n1_vaccine                       0\n",
       "h1n1_concern                      92\n",
       "h1n1_knowledge                   116\n",
       "behavioral_antiviral_meds         71\n",
       "behavioral_avoidance             208\n",
       "behavioral_face_mask              19\n",
       "behavioral_wash_hands             42\n",
       "behavioral_large_gatherings       87\n",
       "behavioral_outside_home           82\n",
       "behavioral_touch_face            128\n",
       "doctor_recc_h1n1                2160\n",
       "chronic_med_condition            971\n",
       "child_under_6_months             820\n",
       "health_worker                    804\n",
       "health_insurance               12274\n",
       "opinion_h1n1_vacc_effective      391\n",
       "opinion_h1n1_risk                388\n",
       "opinion_h1n1_sick_from_vacc      395\n",
       "age_group                          0\n",
       "education                       1407\n",
       "race                               0\n",
       "sex                                0\n",
       "income_poverty                  4423\n",
       "marital_status                  1408\n",
       "employment_status               1463\n",
       "hhs_geo_region                     0\n",
       "household_adults                 249\n",
       "household_children               249\n",
       "dtype: int64"
      ]
     },
     "execution_count": 226,
     "metadata": {},
     "output_type": "execute_result"
    }
   ],
   "execution_count": 226
  },
  {
   "cell_type": "markdown",
   "id": "959e6519af0d776e",
   "metadata": {},
   "source": [
    "## Data Cleaning"
   ]
  },
  {
   "cell_type": "markdown",
   "id": "33b4400d7eeeeadd",
   "metadata": {},
   "source": [
    "### Data cleaning/Data cleansing/Data Wrangling will cover the following\n",
    "1. Checking the columns and changing mispelled to correct names\n",
    "2. checking missing values\n",
    "3. checking for duplicates\n",
    "4. checking for outliers"
   ]
  },
  {
   "cell_type": "code",
   "id": "cad8c256f84cffb0",
   "metadata": {
    "ExecuteTime": {
     "end_time": "2025-02-23T03:20:13.867645Z",
     "start_time": "2025-02-23T03:20:13.861712Z"
    }
   },
   "source": [
    "#Checking the columns and changing mispelled to correct names\n",
    "merged_data_h1n1.columns"
   ],
   "outputs": [
    {
     "data": {
      "text/plain": [
       "Index(['h1n1_vaccine', 'h1n1_concern', 'h1n1_knowledge',\n",
       "       'behavioral_antiviral_meds', 'behavioral_avoidance',\n",
       "       'behavioral_face_mask', 'behavioral_wash_hands',\n",
       "       'behavioral_large_gatherings', 'behavioral_outside_home',\n",
       "       'behavioral_touch_face', 'doctor_recc_h1n1', 'chronic_med_condition',\n",
       "       'child_under_6_months', 'health_worker', 'health_insurance',\n",
       "       'opinion_h1n1_vacc_effective', 'opinion_h1n1_risk',\n",
       "       'opinion_h1n1_sick_from_vacc', 'age_group', 'education', 'race', 'sex',\n",
       "       'income_poverty', 'marital_status', 'employment_status',\n",
       "       'hhs_geo_region', 'household_adults', 'household_children'],\n",
       "      dtype='object')"
      ]
     },
     "execution_count": 227,
     "metadata": {},
     "output_type": "execute_result"
    }
   ],
   "execution_count": 227
  },
  {
   "cell_type": "markdown",
   "id": "c17367553fdf9617",
   "metadata": {},
   "source": [
    "#### There are no misspelled names, no white spaces and the names are uniforms"
   ]
  },
  {
   "cell_type": "code",
   "id": "b24193581fdd4122",
   "metadata": {
    "ExecuteTime": {
     "end_time": "2025-02-23T03:20:13.886426Z",
     "start_time": "2025-02-23T03:20:13.869902Z"
    }
   },
   "source": [
    "#checking missing values and dealing with them\n",
    "merged_data_h1n1.isna().sum()"
   ],
   "outputs": [
    {
     "data": {
      "text/plain": [
       "h1n1_vaccine                       0\n",
       "h1n1_concern                      92\n",
       "h1n1_knowledge                   116\n",
       "behavioral_antiviral_meds         71\n",
       "behavioral_avoidance             208\n",
       "behavioral_face_mask              19\n",
       "behavioral_wash_hands             42\n",
       "behavioral_large_gatherings       87\n",
       "behavioral_outside_home           82\n",
       "behavioral_touch_face            128\n",
       "doctor_recc_h1n1                2160\n",
       "chronic_med_condition            971\n",
       "child_under_6_months             820\n",
       "health_worker                    804\n",
       "health_insurance               12274\n",
       "opinion_h1n1_vacc_effective      391\n",
       "opinion_h1n1_risk                388\n",
       "opinion_h1n1_sick_from_vacc      395\n",
       "age_group                          0\n",
       "education                       1407\n",
       "race                               0\n",
       "sex                                0\n",
       "income_poverty                  4423\n",
       "marital_status                  1408\n",
       "employment_status               1463\n",
       "hhs_geo_region                     0\n",
       "household_adults                 249\n",
       "household_children               249\n",
       "dtype: int64"
      ]
     },
     "execution_count": 228,
     "metadata": {},
     "output_type": "execute_result"
    }
   ],
   "execution_count": 228
  },
  {
   "cell_type": "code",
   "id": "44819ce49b24c866",
   "metadata": {
    "ExecuteTime": {
     "end_time": "2025-02-23T03:20:13.896373Z",
     "start_time": "2025-02-23T03:20:13.888797Z"
    }
   },
   "source": [
    "merged_data_h1n1[\"health_insurance\"].unique()"
   ],
   "outputs": [
    {
     "data": {
      "text/plain": [
       "array([ 1., nan,  0.])"
      ]
     },
     "execution_count": 229,
     "metadata": {},
     "output_type": "execute_result"
    }
   ],
   "execution_count": 229
  },
  {
   "cell_type": "code",
   "id": "1b49c7496be39f28",
   "metadata": {
    "ExecuteTime": {
     "end_time": "2025-02-23T03:20:13.904648Z",
     "start_time": "2025-02-23T03:20:13.898300Z"
    }
   },
   "source": [
    "del merged_data_h1n1[\"health_insurance\"]"
   ],
   "outputs": [],
   "execution_count": 230
  },
  {
   "cell_type": "code",
   "id": "c0deec71461731a5",
   "metadata": {
    "ExecuteTime": {
     "end_time": "2025-02-23T03:20:13.917019Z",
     "start_time": "2025-02-23T03:20:13.909196Z"
    }
   },
   "source": [
    "merged_data_h1n1[\"income_poverty\"].unique()"
   ],
   "outputs": [
    {
     "data": {
      "text/plain": [
       "array(['Below Poverty', '<= $75,000, Above Poverty', '> $75,000', nan],\n",
       "      dtype=object)"
      ]
     },
     "execution_count": 231,
     "metadata": {},
     "output_type": "execute_result"
    }
   ],
   "execution_count": 231
  },
  {
   "cell_type": "code",
   "id": "8c6a7b0a6766849a",
   "metadata": {
    "ExecuteTime": {
     "end_time": "2025-02-23T03:20:13.938612Z",
     "start_time": "2025-02-23T03:20:13.919205Z"
    }
   },
   "source": [
    "merged_data_h1n1.isna().sum()"
   ],
   "outputs": [
    {
     "data": {
      "text/plain": [
       "h1n1_vaccine                      0\n",
       "h1n1_concern                     92\n",
       "h1n1_knowledge                  116\n",
       "behavioral_antiviral_meds        71\n",
       "behavioral_avoidance            208\n",
       "behavioral_face_mask             19\n",
       "behavioral_wash_hands            42\n",
       "behavioral_large_gatherings      87\n",
       "behavioral_outside_home          82\n",
       "behavioral_touch_face           128\n",
       "doctor_recc_h1n1               2160\n",
       "chronic_med_condition           971\n",
       "child_under_6_months            820\n",
       "health_worker                   804\n",
       "opinion_h1n1_vacc_effective     391\n",
       "opinion_h1n1_risk               388\n",
       "opinion_h1n1_sick_from_vacc     395\n",
       "age_group                         0\n",
       "education                      1407\n",
       "race                              0\n",
       "sex                               0\n",
       "income_poverty                 4423\n",
       "marital_status                 1408\n",
       "employment_status              1463\n",
       "hhs_geo_region                    0\n",
       "household_adults                249\n",
       "household_children              249\n",
       "dtype: int64"
      ]
     },
     "execution_count": 232,
     "metadata": {},
     "output_type": "execute_result"
    }
   ],
   "execution_count": 232
  },
  {
   "cell_type": "code",
   "id": "ef610d7e0ee2adc7",
   "metadata": {
    "ExecuteTime": {
     "end_time": "2025-02-23T03:20:13.945874Z",
     "start_time": "2025-02-23T03:20:13.941556Z"
    }
   },
   "source": [
    "#using Object-Oriented programing to handle the rest of the missing data"
   ],
   "outputs": [],
   "execution_count": 233
  },
  {
   "cell_type": "code",
   "id": "c4ea4ed93440522b",
   "metadata": {
    "ExecuteTime": {
     "end_time": "2025-02-23T03:20:14.049002Z",
     "start_time": "2025-02-23T03:20:13.947921Z"
    }
   },
   "source": [
    "# List of columns to impute with the mode\n",
    "columns_to_impute_mode = [\n",
    "    \"h1n1_knowledge\",\n",
    "    \"behavioral_touch_face\",\n",
    "    \"behavioral_avoidance\",\n",
    "    \"household_children\",\n",
    "    \"household_adults\",\n",
    "    \"opinion_h1n1_risk\",\n",
    "    \"opinion_h1n1_vacc_effective\",\n",
    "    \"opinion_h1n1_sick_from_vacc\",\n",
    "    \"health_worker\",\n",
    "    \"child_under_6_months\",\n",
    "    \"chronic_med_condition\",\n",
    "    \"education\",\n",
    "    \"marital_status\",\n",
    "    \"employment_status\",\n",
    "    \"chronic_med_condition\",\n",
    "    \"income_poverty\",\n",
    "    \"doctor_recc_h1n1\"\n",
    "    \n",
    "]\n",
    "\n",
    "# List of columns to drop rows with missing values\n",
    "columns_to_drop_missing = [\n",
    "    \"behavioral_face_mask\",\n",
    "    \"behavioral_wash_hands\",\n",
    "    \"behavioral_antiviral_meds\",\n",
    "    \"behavioral_outside_home\",\n",
    "    \"behavioral_large_gatherings\",\n",
    "    \"h1n1_concern\"\n",
    "]\n",
    "\n",
    "# Class definition for MissingDataHandler\n",
    "class MissingDataHandler:\n",
    "    def __init__(self, dataframe):\n",
    "        self.dataframe = dataframe.copy()  # Ensure we are working with a copy of the dataframe\n",
    "    \n",
    "    def impute_mode(self, column):\n",
    "        \"\"\"\n",
    "        Impute missing values in a given column with the mode (most frequent value)\n",
    "        \"\"\"\n",
    "        mode_value = self.dataframe[column].mode()[0]\n",
    "        # Using .loc to avoid SettingWithCopyWarning\n",
    "        self.dataframe.loc[:, column] = self.dataframe[column].fillna(mode_value)\n",
    "        print(f\"Missing values in {column} have been imputed with the mode: {mode_value}\")\n",
    "    \n",
    "    def drop_rows_with_missing(self, column):\n",
    "        \"\"\"\n",
    "        Drop rows with missing values in a given column\n",
    "        \"\"\"\n",
    "        self.dataframe = self.dataframe.loc[self.dataframe[column].notna()]  # Filter rows where column is not missing\n",
    "        print(f\"Dropped rows due to missing values in {column}\")\n",
    "    \n",
    "    def show_missing_summary(self):\n",
    "        \"\"\"\n",
    "        Show the percentage of missing values in each column\n",
    "        \"\"\"\n",
    "        missing_data = self.dataframe.isnull().sum() / len(self.dataframe) * 100\n",
    "        print(\"Missing Data Summary:\")\n",
    "        print(missing_data)\n",
    "\n",
    "# Initialize the MissingDataHandler with the merged_data_h1n1 dataframe\n",
    "data_handler = MissingDataHandler(merged_data_h1n1)\n",
    "\n",
    "# Apply imputation using the mode for specified columns\n",
    "for column in columns_to_impute_mode:\n",
    "    data_handler.impute_mode(column)\n",
    "\n",
    "# Drop rows with missing values for the specified columns\n",
    "for column in columns_to_drop_missing:\n",
    "    data_handler.drop_rows_with_missing(column)\n",
    "\n",
    "# Show the updated missing data summary after imputation and dropping rows\n",
    "data_handler.show_missing_summary()\n"
   ],
   "outputs": [
    {
     "name": "stdout",
     "output_type": "stream",
     "text": [
      "Missing values in h1n1_knowledge have been imputed with the mode: 1.0\n",
      "Missing values in behavioral_touch_face have been imputed with the mode: 1.0\n",
      "Missing values in behavioral_avoidance have been imputed with the mode: 1.0\n",
      "Missing values in household_children have been imputed with the mode: 0.0\n",
      "Missing values in household_adults have been imputed with the mode: 1.0\n",
      "Missing values in opinion_h1n1_risk have been imputed with the mode: 2.0\n",
      "Missing values in opinion_h1n1_vacc_effective have been imputed with the mode: 4.0\n",
      "Missing values in opinion_h1n1_sick_from_vacc have been imputed with the mode: 2.0\n",
      "Missing values in health_worker have been imputed with the mode: 0.0\n",
      "Missing values in child_under_6_months have been imputed with the mode: 0.0\n",
      "Missing values in chronic_med_condition have been imputed with the mode: 0.0\n",
      "Missing values in education have been imputed with the mode: College Graduate\n",
      "Missing values in marital_status have been imputed with the mode: Married\n",
      "Missing values in employment_status have been imputed with the mode: Employed\n",
      "Missing values in chronic_med_condition have been imputed with the mode: 0.0\n",
      "Missing values in income_poverty have been imputed with the mode: <= $75,000, Above Poverty\n",
      "Missing values in doctor_recc_h1n1 have been imputed with the mode: 0.0\n",
      "Dropped rows due to missing values in behavioral_face_mask\n",
      "Dropped rows due to missing values in behavioral_wash_hands\n",
      "Dropped rows due to missing values in behavioral_antiviral_meds\n",
      "Dropped rows due to missing values in behavioral_outside_home\n",
      "Dropped rows due to missing values in behavioral_large_gatherings\n",
      "Dropped rows due to missing values in h1n1_concern\n",
      "Missing Data Summary:\n",
      "h1n1_vaccine                   0.0\n",
      "h1n1_concern                   0.0\n",
      "h1n1_knowledge                 0.0\n",
      "behavioral_antiviral_meds      0.0\n",
      "behavioral_avoidance           0.0\n",
      "behavioral_face_mask           0.0\n",
      "behavioral_wash_hands          0.0\n",
      "behavioral_large_gatherings    0.0\n",
      "behavioral_outside_home        0.0\n",
      "behavioral_touch_face          0.0\n",
      "doctor_recc_h1n1               0.0\n",
      "chronic_med_condition          0.0\n",
      "child_under_6_months           0.0\n",
      "health_worker                  0.0\n",
      "opinion_h1n1_vacc_effective    0.0\n",
      "opinion_h1n1_risk              0.0\n",
      "opinion_h1n1_sick_from_vacc    0.0\n",
      "age_group                      0.0\n",
      "education                      0.0\n",
      "race                           0.0\n",
      "sex                            0.0\n",
      "income_poverty                 0.0\n",
      "marital_status                 0.0\n",
      "employment_status              0.0\n",
      "hhs_geo_region                 0.0\n",
      "household_adults               0.0\n",
      "household_children             0.0\n",
      "dtype: float64\n"
     ]
    }
   ],
   "execution_count": 234
  },
  {
   "cell_type": "code",
   "id": "8e92b949309880b5",
   "metadata": {
    "ExecuteTime": {
     "end_time": "2025-02-23T03:20:14.071033Z",
     "start_time": "2025-02-23T03:20:14.050721Z"
    }
   },
   "source": [
    "clean_data_H1N1 = data_handler.dataframe\n",
    "clean_data_H1N1.isna().sum()"
   ],
   "outputs": [
    {
     "data": {
      "text/plain": [
       "h1n1_vaccine                   0\n",
       "h1n1_concern                   0\n",
       "h1n1_knowledge                 0\n",
       "behavioral_antiviral_meds      0\n",
       "behavioral_avoidance           0\n",
       "behavioral_face_mask           0\n",
       "behavioral_wash_hands          0\n",
       "behavioral_large_gatherings    0\n",
       "behavioral_outside_home        0\n",
       "behavioral_touch_face          0\n",
       "doctor_recc_h1n1               0\n",
       "chronic_med_condition          0\n",
       "child_under_6_months           0\n",
       "health_worker                  0\n",
       "opinion_h1n1_vacc_effective    0\n",
       "opinion_h1n1_risk              0\n",
       "opinion_h1n1_sick_from_vacc    0\n",
       "age_group                      0\n",
       "education                      0\n",
       "race                           0\n",
       "sex                            0\n",
       "income_poverty                 0\n",
       "marital_status                 0\n",
       "employment_status              0\n",
       "hhs_geo_region                 0\n",
       "household_adults               0\n",
       "household_children             0\n",
       "dtype: int64"
      ]
     },
     "execution_count": 235,
     "metadata": {},
     "output_type": "execute_result"
    }
   ],
   "execution_count": 235
  },
  {
   "cell_type": "code",
   "id": "30ceaf692d756941",
   "metadata": {
    "ExecuteTime": {
     "end_time": "2025-02-23T03:20:14.078562Z",
     "start_time": "2025-02-23T03:20:14.073065Z"
    }
   },
   "source": [
    "del clean_data_H1N1[\"hhs_geo_region\"]"
   ],
   "outputs": [],
   "execution_count": 236
  },
  {
   "cell_type": "code",
   "id": "1a50c8f03d51f2f3",
   "metadata": {
    "ExecuteTime": {
     "end_time": "2025-02-23T03:20:14.087483Z",
     "start_time": "2025-02-23T03:20:14.081005Z"
    }
   },
   "source": [
    "clean_data_H1N1.shape"
   ],
   "outputs": [
    {
     "data": {
      "text/plain": [
       "(26356, 26)"
      ]
     },
     "execution_count": 237,
     "metadata": {},
     "output_type": "execute_result"
    }
   ],
   "execution_count": 237
  },
  {
   "cell_type": "code",
   "id": "7d6912313de82e3e",
   "metadata": {
    "ExecuteTime": {
     "end_time": "2025-02-23T03:20:14.125780Z",
     "start_time": "2025-02-23T03:20:14.090292Z"
    }
   },
   "source": [
    "#checking unique values\n",
    "for column in clean_data_H1N1:\n",
    "    unique_values = clean_data_H1N1[column].unique()\n",
    "    print(f\"{column}: {unique_values} \", '\\n')"
   ],
   "outputs": [
    {
     "name": "stdout",
     "output_type": "stream",
     "text": [
      "h1n1_vaccine: [0 1]  \n",
      "\n",
      "h1n1_concern: [1. 3. 2. 0.]  \n",
      "\n",
      "h1n1_knowledge: [0. 2. 1.]  \n",
      "\n",
      "behavioral_antiviral_meds: [0. 1.]  \n",
      "\n",
      "behavioral_avoidance: [0. 1.]  \n",
      "\n",
      "behavioral_face_mask: [0. 1.]  \n",
      "\n",
      "behavioral_wash_hands: [0. 1.]  \n",
      "\n",
      "behavioral_large_gatherings: [0. 1.]  \n",
      "\n",
      "behavioral_outside_home: [1. 0.]  \n",
      "\n",
      "behavioral_touch_face: [1. 0.]  \n",
      "\n",
      "doctor_recc_h1n1: [0. 1.]  \n",
      "\n",
      "chronic_med_condition: [0. 1.]  \n",
      "\n",
      "child_under_6_months: [0. 1.]  \n",
      "\n",
      "health_worker: [0. 1.]  \n",
      "\n",
      "opinion_h1n1_vacc_effective: [3. 5. 4. 2. 1.]  \n",
      "\n",
      "opinion_h1n1_risk: [1. 4. 3. 2. 5.]  \n",
      "\n",
      "opinion_h1n1_sick_from_vacc: [2. 4. 1. 5. 3.]  \n",
      "\n",
      "age_group: ['55 - 64 Years' '35 - 44 Years' '18 - 34 Years' '65+ Years'\n",
      " '45 - 54 Years']  \n",
      "\n",
      "education: ['< 12 Years' '12 Years' 'College Graduate' 'Some College']  \n",
      "\n",
      "race: ['White' 'Black' 'Other or Multiple' 'Hispanic']  \n",
      "\n",
      "sex: ['Female' 'Male']  \n",
      "\n",
      "income_poverty: ['Below Poverty' '<= $75,000, Above Poverty' '> $75,000']  \n",
      "\n",
      "marital_status: ['Not Married' 'Married']  \n",
      "\n",
      "employment_status: ['Not in Labor Force' 'Employed' 'Unemployed']  \n",
      "\n",
      "household_adults: [0. 2. 1. 3.]  \n",
      "\n",
      "household_children: [0. 3. 2. 1.]  \n",
      "\n"
     ]
    }
   ],
   "execution_count": 238
  },
  {
   "cell_type": "code",
   "id": "97b3b9fd3be1f392",
   "metadata": {
    "ExecuteTime": {
     "end_time": "2025-02-23T03:20:16.538577Z",
     "start_time": "2025-02-23T03:20:14.127585Z"
    }
   },
   "source": [
    "#checking outliers\n",
    "sns.boxplot(clean_data_H1N1);"
   ],
   "outputs": [
    {
     "data": {
      "text/plain": [
       "<Figure size 640x480 with 1 Axes>"
      ],
      "image/png": "[encoded data removed]"
     },
     "metadata": {},
     "output_type": "display_data"
    }
   ],
   "execution_count": 239
  },
  {
   "cell_type": "code",
   "id": "dd6b41eb0ebedbea",
   "metadata": {
    "ExecuteTime": {
     "end_time": "2025-02-23T03:20:19.569639Z",
     "start_time": "2025-02-23T03:20:16.619195Z"
    }
   },
   "source": [
    "import pandas as pd\n",
    "import numpy as np\n",
    "import matplotlib.pyplot as plt\n",
    "import seaborn as sns\n",
    "\n",
    "# List of columns to check for outliers\n",
    "columns_to_check = [\n",
    "    \"h1n1_vaccine\", \"h1n1_concern\", \"h1n1_knowledge\", \"behavioral_antiviral_meds\", \n",
    "    \"behavioral_avoidance\", \"behavioral_face_mask\", \"behavioral_wash_hands\", \n",
    "    \"behavioral_large_gatherings\", \"behavioral_outside_home\", \"behavioral_touch_face\", \n",
    "    \"doctor_recc_h1n1\", \"chronic_med_condition\", \"child_under_6_months\", \"health_worker\", \n",
    "    \"opinion_h1n1_vacc_effective\", \"opinion_h1n1_risk\", \"opinion_h1n1_sick_from_vacc\", \n",
    "    \"age_group\", \"education\", \"race\", \"sex\", \"income_poverty\", \"marital_status\", \n",
    "    \"employment_status\", \"hhs_geo_region\", \"household_adults\", \"household_children\"\n",
    "]\n",
    "\n",
    "# Loop over each column, checking for outliers in numeric columns only\n",
    "for column in columns_to_check:\n",
    "    # Check if the column is numeric\n",
    "    if pd.api.types.is_numeric_dtype(clean_data_H1N1[column]): #check outliers only on numeric datatypes\n",
    "        # Calculate the IQR (Interquartile Range)\n",
    "        Q1 = clean_data_H1N1[column].quantile(0.25)\n",
    "        Q3 = clean_data_H1N1[column].quantile(0.75)\n",
    "        IQR = Q3 - Q1\n",
    "        \n",
    "        # Define the lower and upper bounds for outliers\n",
    "        lower_bound = Q1 - 1.5 * IQR\n",
    "        upper_bound = Q3 + 1.5 * IQR\n",
    "        \n",
    "        # Identify outliers\n",
    "        outliers = (clean_data_H1N1[column] < lower_bound) | (clean_data_H1N1[column] > upper_bound) #pipe that combines both lower bound and upper bound\n",
    "        \n",
    "        # Print outliers summary\n",
    "        outlier_count = outliers.sum()\n",
    "        \n",
    "        # Create a boxplot to visualize the outliers\n",
    "        plt.figure(figsize=(8, 6))\n",
    "        sns.boxplot(data=clean_data_H1N1[column])\n",
    "        plt.title(f\"Boxplot for {column} with Outliers\")\n",
    "        plt.show()\n"
   ],
   "outputs": [
    {
     "data": {
      "text/plain": [
       "<Figure size 800x600 with 1 Axes>"
      ],
      "image/png": "[encoded data removed]"
     },
     "metadata": {},
     "output_type": "display_data"
    },
    {
     "data": {
      "text/plain": [
       "<Figure size 800x600 with 1 Axes>"
      ],
      "image/png": "[encoded data removed]"
     },
     "metadata": {},
     "output_type": "display_data"
    },
    {
     "data": {
      "text/plain": [
       "<Figure size 800x600 with 1 Axes>"
      ],
      "image/png": "[encoded data removed]"
     },
     "metadata": {},
     "output_type": "display_data"
    },
    {
     "data": {
      "text/plain": [
       "<Figure size 800x600 with 1 Axes>"
      ],
      "image/png": "[encoded data removed]"
     },
     "metadata": {},
     "output_type": "display_data"
    },
    {
     "data": {
      "text/plain": [
       "<Figure size 800x600 with 1 Axes>"
      ],
      "image/png": "[encoded data removed]"
     },
     "metadata": {},
     "output_type": "display_data"
    },
    {
     "data": {
      "text/plain": [
       "<Figure size 800x600 with 1 Axes>"
      ],
      "image/png": "[encoded data removed]"
     },
     "metadata": {},
     "output_type": "display_data"
    },
    {
     "data": {
      "text/plain": [
       "<Figure size 800x600 with 1 Axes>"
      ],
      "image/png": "[encoded data removed]"
     },
     "metadata": {},
     "output_type": "display_data"
    },
    {
     "data": {
      "text/plain": [
       "<Figure size 800x600 with 1 Axes>"
      ],
      "image/png": "[encoded data removed]"
     },
     "metadata": {},
     "output_type": "display_data"
    },
    {
     "data": {
      "text/plain": [
       "<Figure size 800x600 with 1 Axes>"
      ],
      "image/png": "[encoded data removed]"
     },
     "metadata": {},
     "output_type": "display_data"
    },
    {
     "data": {
      "text/plain": [
       "<Figure size 800x600 with 1 Axes>"
      ],
      "image/png": "[encoded data removed]"
     },
     "metadata": {},
     "output_type": "display_data"
    },
    {
     "data": {
      "text/plain": [
       "<Figure size 800x600 with 1 Axes>"
      ],
      "image/png": "[encoded data removed]"
     },
     "metadata": {},
     "output_type": "display_data"
    },
    {
     "data": {
      "text/plain": [
       "<Figure size 800x600 with 1 Axes>"
      ],
      "image/png": "[encoded data removed]"
     },
     "metadata": {},
     "output_type": "display_data"
    },
    {
     "data": {
      "text/plain": [
       "<Figure size 800x600 with 1 Axes>"
      ],
      "image/png": "[encoded data removed]"
     },
     "metadata": {},
     "output_type": "display_data"
    },
    {
     "data": {
      "text/plain": [
       "<Figure size 800x600 with 1 Axes>"
      ],
      "image/png": "[encoded data removed]"
     },
     "metadata": {},
     "output_type": "display_data"
    },
    {
     "data": {
      "text/plain": [
       "<Figure size 800x600 with 1 Axes>"
      ],
      "image/png": "[encoded data removed]"
     },
     "metadata": {},
     "output_type": "display_data"
    },
    {
     "data": {
      "text/plain": [
       "<Figure size 800x600 with 1 Axes>"
      ],
      "image/png": "[encoded data removed]"
     },
     "metadata": {},
     "output_type": "display_data"
    },
    {
     "data": {
      "text/plain": [
       "<Figure size 800x600 with 1 Axes>"
      ],
      "image/png": "[encoded data removed]"
     },
     "metadata": {},
     "output_type": "display_data"
    },
    {
     "ename": "KeyError",
     "evalue": "'hhs_geo_region'",
     "output_type": "error",
     "traceback": [
      "\u001B[1;31m---------------------------------------------------------------------------\u001B[0m",
      "\u001B[1;31mKeyError\u001B[0m                                  Traceback (most recent call last)",
      "File \u001B[1;32m~\\Desktop\\Python_practice\\venv\\Lib\\site-packages\\pandas\\core\\indexes\\base.py:3805\u001B[0m, in \u001B[0;36mIndex.get_loc\u001B[1;34m(self, key)\u001B[0m\n\u001B[0;32m   3804\u001B[0m \u001B[38;5;28;01mtry\u001B[39;00m:\n\u001B[1;32m-> 3805\u001B[0m     \u001B[38;5;28;01mreturn\u001B[39;00m \u001B[38;5;28;43mself\u001B[39;49m\u001B[38;5;241;43m.\u001B[39;49m\u001B[43m_engine\u001B[49m\u001B[38;5;241;43m.\u001B[39;49m\u001B[43mget_loc\u001B[49m\u001B[43m(\u001B[49m\u001B[43mcasted_key\u001B[49m\u001B[43m)\u001B[49m\n\u001B[0;32m   3806\u001B[0m \u001B[38;5;28;01mexcept\u001B[39;00m \u001B[38;5;167;01mKeyError\u001B[39;00m \u001B[38;5;28;01mas\u001B[39;00m err:\n",
      "File \u001B[1;32mindex.pyx:167\u001B[0m, in \u001B[0;36mpandas._libs.index.IndexEngine.get_loc\u001B[1;34m()\u001B[0m\n",
      "File \u001B[1;32mindex.pyx:196\u001B[0m, in \u001B[0;36mpandas._libs.index.IndexEngine.get_loc\u001B[1;34m()\u001B[0m\n",
      "File \u001B[1;32mpandas\\\\_libs\\\\hashtable_class_helper.pxi:7081\u001B[0m, in \u001B[0;36mpandas._libs.hashtable.PyObjectHashTable.get_item\u001B[1;34m()\u001B[0m\n",
      "File \u001B[1;32mpandas\\\\_libs\\\\hashtable_class_helper.pxi:7089\u001B[0m, in \u001B[0;36mpandas._libs.hashtable.PyObjectHashTable.get_item\u001B[1;34m()\u001B[0m\n",
      "\u001B[1;31mKeyError\u001B[0m: 'hhs_geo_region'",
      "\nThe above exception was the direct cause of the following exception:\n",
      "\u001B[1;31mKeyError\u001B[0m                                  Traceback (most recent call last)",
      "Cell \u001B[1;32mIn[240], line 20\u001B[0m\n\u001B[0;32m     17\u001B[0m \u001B[38;5;66;03m# Loop over each column, checking for outliers in numeric columns only\u001B[39;00m\n\u001B[0;32m     18\u001B[0m \u001B[38;5;28;01mfor\u001B[39;00m column \u001B[38;5;129;01min\u001B[39;00m columns_to_check:\n\u001B[0;32m     19\u001B[0m     \u001B[38;5;66;03m# Check if the column is numeric\u001B[39;00m\n\u001B[1;32m---> 20\u001B[0m     \u001B[38;5;28;01mif\u001B[39;00m pd\u001B[38;5;241m.\u001B[39mapi\u001B[38;5;241m.\u001B[39mtypes\u001B[38;5;241m.\u001B[39mis_numeric_dtype(\u001B[43mclean_data_H1N1\u001B[49m\u001B[43m[\u001B[49m\u001B[43mcolumn\u001B[49m\u001B[43m]\u001B[49m): \u001B[38;5;66;03m#check outliers only on numeric datatypes\u001B[39;00m\n\u001B[0;32m     21\u001B[0m         \u001B[38;5;66;03m# Calculate the IQR (Interquartile Range)\u001B[39;00m\n\u001B[0;32m     22\u001B[0m         Q1 \u001B[38;5;241m=\u001B[39m clean_data_H1N1[column]\u001B[38;5;241m.\u001B[39mquantile(\u001B[38;5;241m0.25\u001B[39m)\n\u001B[0;32m     23\u001B[0m         Q3 \u001B[38;5;241m=\u001B[39m clean_data_H1N1[column]\u001B[38;5;241m.\u001B[39mquantile(\u001B[38;5;241m0.75\u001B[39m)\n",
      "File \u001B[1;32m~\\Desktop\\Python_practice\\venv\\Lib\\site-packages\\pandas\\core\\frame.py:4102\u001B[0m, in \u001B[0;36mDataFrame.__getitem__\u001B[1;34m(self, key)\u001B[0m\n\u001B[0;32m   4100\u001B[0m \u001B[38;5;28;01mif\u001B[39;00m \u001B[38;5;28mself\u001B[39m\u001B[38;5;241m.\u001B[39mcolumns\u001B[38;5;241m.\u001B[39mnlevels \u001B[38;5;241m>\u001B[39m \u001B[38;5;241m1\u001B[39m:\n\u001B[0;32m   4101\u001B[0m     \u001B[38;5;28;01mreturn\u001B[39;00m \u001B[38;5;28mself\u001B[39m\u001B[38;5;241m.\u001B[39m_getitem_multilevel(key)\n\u001B[1;32m-> 4102\u001B[0m indexer \u001B[38;5;241m=\u001B[39m \u001B[38;5;28;43mself\u001B[39;49m\u001B[38;5;241;43m.\u001B[39;49m\u001B[43mcolumns\u001B[49m\u001B[38;5;241;43m.\u001B[39;49m\u001B[43mget_loc\u001B[49m\u001B[43m(\u001B[49m\u001B[43mkey\u001B[49m\u001B[43m)\u001B[49m\n\u001B[0;32m   4103\u001B[0m \u001B[38;5;28;01mif\u001B[39;00m is_integer(indexer):\n\u001B[0;32m   4104\u001B[0m     indexer \u001B[38;5;241m=\u001B[39m [indexer]\n",
      "File \u001B[1;32m~\\Desktop\\Python_practice\\venv\\Lib\\site-packages\\pandas\\core\\indexes\\base.py:3812\u001B[0m, in \u001B[0;36mIndex.get_loc\u001B[1;34m(self, key)\u001B[0m\n\u001B[0;32m   3807\u001B[0m     \u001B[38;5;28;01mif\u001B[39;00m \u001B[38;5;28misinstance\u001B[39m(casted_key, \u001B[38;5;28mslice\u001B[39m) \u001B[38;5;129;01mor\u001B[39;00m (\n\u001B[0;32m   3808\u001B[0m         \u001B[38;5;28misinstance\u001B[39m(casted_key, abc\u001B[38;5;241m.\u001B[39mIterable)\n\u001B[0;32m   3809\u001B[0m         \u001B[38;5;129;01mand\u001B[39;00m \u001B[38;5;28many\u001B[39m(\u001B[38;5;28misinstance\u001B[39m(x, \u001B[38;5;28mslice\u001B[39m) \u001B[38;5;28;01mfor\u001B[39;00m x \u001B[38;5;129;01min\u001B[39;00m casted_key)\n\u001B[0;32m   3810\u001B[0m     ):\n\u001B[0;32m   3811\u001B[0m         \u001B[38;5;28;01mraise\u001B[39;00m InvalidIndexError(key)\n\u001B[1;32m-> 3812\u001B[0m     \u001B[38;5;28;01mraise\u001B[39;00m \u001B[38;5;167;01mKeyError\u001B[39;00m(key) \u001B[38;5;28;01mfrom\u001B[39;00m\u001B[38;5;250m \u001B[39m\u001B[38;5;21;01merr\u001B[39;00m\n\u001B[0;32m   3813\u001B[0m \u001B[38;5;28;01mexcept\u001B[39;00m \u001B[38;5;167;01mTypeError\u001B[39;00m:\n\u001B[0;32m   3814\u001B[0m     \u001B[38;5;66;03m# If we have a listlike key, _check_indexing_error will raise\u001B[39;00m\n\u001B[0;32m   3815\u001B[0m     \u001B[38;5;66;03m#  InvalidIndexError. Otherwise we fall through and re-raise\u001B[39;00m\n\u001B[0;32m   3816\u001B[0m     \u001B[38;5;66;03m#  the TypeError.\u001B[39;00m\n\u001B[0;32m   3817\u001B[0m     \u001B[38;5;28mself\u001B[39m\u001B[38;5;241m.\u001B[39m_check_indexing_error(key)\n",
      "\u001B[1;31mKeyError\u001B[0m: 'hhs_geo_region'"
     ]
    }
   ],
   "execution_count": 240
  },
  {
   "cell_type": "code",
   "id": "acee4487ef3e91c7",
   "metadata": {
    "ExecuteTime": {
     "end_time": "2025-02-23T03:20:19.575474Z",
     "start_time": "2025-02-23T03:20:19.575107Z"
    }
   },
   "source": [
    "clean_data_H1N1.to_csv(\"clean_data_H1N1.csv\", index=False)"
   ],
   "outputs": [],
   "execution_count": null
  },
  {
   "cell_type": "code",
   "id": "4a9d80377d92e86e",
   "metadata": {
    "ExecuteTime": {
     "end_time": "2025-02-23T03:20:19.576858Z",
     "start_time": "2025-02-23T03:20:19.576500Z"
    }
   },
   "source": [
    "clean_data_H1N1_df = pd.read_csv(\"clean_data_H1N1.csv\")"
   ],
   "outputs": [],
   "execution_count": null
  },
  {
   "cell_type": "markdown",
   "id": "b064816ffc54acba",
   "metadata": {},
   "source": [
    "# Exploratory Data Analysis"
   ]
  },
  {
   "cell_type": "markdown",
   "id": "59c60e46f7589ac5",
   "metadata": {},
   "source": [
    "#### EDA will answer the question below"
   ]
  },
  {
   "cell_type": "markdown",
   "id": "b4e05b720b90cd29",
   "metadata": {},
   "source": [
    "#####  What patterns or trends were observed in the demographic and behavioral characteristics of individuals who received the H1N1 vaccine versus those who did not?\n",
    "\n",
    "This question focuses on Exploratory Data Analysis (EDA) to uncover underlying patterns in the dataset. \n",
    "\n",
    "By comparing demographic variables like age, gender, income, education, and race, as well as behavioral factors like mask-wearing, hand hygiene, and social distancing, we can identify differences between those who chose to receive the H1N1 vaccine and those who did not. \n",
    "\n",
    "Key trends could include:\n",
    "\n",
    "•\tWhether certain demographic groups (e.g., older individuals, individuals with higher education, or those with higher income) were more likely to receive the vaccine.\n",
    "\n",
    "•\tWhether individuals who engaged in specific behaviors, such as frequent handwashing or mask-wearing, were more inclined to get vaccinated.\n",
    "\n",
    "•\tHow perceptions about the vaccine's effectiveness and the risk of infection influenced decisions to get vaccinated.\n",
    "\n",
    "The goal of this question is to identify any significant patterns that could guide public health efforts, helping to target specific groups that may benefit from more focused vaccine promotion strategies.\n"
   ]
  },
  {
   "cell_type": "markdown",
   "id": "22dfc8486c8b4662",
   "metadata": {},
   "source": [
    "### 1. Univariate Visualizations (Single Variable Analysis)"
   ]
  },
  {
   "cell_type": "markdown",
   "id": "8c23b9ada533e470",
   "metadata": {},
   "source": [
    "#### i) H1N1 Vaccine Uptake"
   ]
  },
  {
   "cell_type": "code",
   "id": "f7f5c002c979a928",
   "metadata": {},
   "source": [
    "# Create a bar plot for H1N1 vaccine uptake\n",
    "plt.figure(figsize=(8, 6))\n",
    "\n",
    "# Create a countplot for vaccine uptake (vaccinated vs non-vaccinated)\n",
    "sns.countplot(x=\"h1n1_vaccine\", data=clean_data_H1N1_df)\n",
    "\n",
    "# Add title and labels\n",
    "plt.title(\"H1N1 Vaccine Uptake\")\n",
    "plt.xlabel(\"Vaccine Uptake (0 = Non-Vaccinated, 1 = Vaccinated)\")\n",
    "plt.ylabel(\"Count\")\n",
    "\n",
    "# Show the plot\n",
    "plt.show()"
   ],
   "outputs": [],
   "execution_count": null
  },
  {
   "cell_type": "markdown",
   "id": "bbf336581cca2090",
   "metadata": {},
   "source": [
    "\n",
    "\n",
    "\n",
    "Observations:\n",
    "\n",
    "##### Vaccine Uptake Distribution:\n",
    "\n",
    "* The plot clearly shows a significant imbalance in the number of individuals who received the H1N1 vaccine versus those who did not.\n",
    "\n",
    "* The non-vaccinated group (represented by 0) has a much larger count compared to the vaccinated group (represented by 1).\n",
    "\n",
    "* The non-vaccinated bar is significantly higher, suggesting that a large proportion of individuals in the dataset chose not to receive the vaccine.\n",
    "\n",
    "* The vaccinated bar is notably smaller, indicating a much lower proportion of individuals received the vaccine.\n",
    "Imbalance:\n",
    "\n",
    "* This distribution suggests that the dataset is imbalanced, with non-vaccinated individuals making up a much larger portion of the data. \n",
    "\n",
    "* Such an imbalance could affect modeling and analysis, as the models may be biased towards predicting the majority class (non-vaccinated).\n",
    "\n",
    "##### Implications:\n",
    "\n",
    "* The low vaccine uptake in the dataset might reflect real-world trends, where vaccine hesitancy or logistical barriers prevent many from getting vaccinated.\n",
    "\n",
    "* The disproportionate class distribution could be addressed during modeling by using techniques such as oversampling the minority class (vaccinated individuals) or applying class weights to ensure that the model is not biased toward predicting the majority class.\n",
    "\n",
    "##### Conclusion:\n",
    "\n",
    "* The low H1N1 vaccine uptake emphasizes the need for increased civic education to raise awareness about the importance of vaccines in preventing illness and protecting public health. \n",
    "\n",
    "* Public health campaigns should focus on addressing misconceptions and improving vaccine accessibility, particularly for vulnerable and hesitant populations."
   ]
  },
  {
   "cell_type": "markdown",
   "id": "feb1606e749d153c",
   "metadata": {},
   "source": [
    "### 2. Bivariate Visualizations (Comparing Two Variables)"
   ]
  },
  {
   "cell_type": "markdown",
   "id": "c8e182febe548ba4",
   "metadata": {},
   "source": [
    "\n",
    "\n",
    "####  i) histogram for age distribution for vaccinated vs non-vaccinated individuals"
   ]
  },
  {
   "cell_type": "code",
   "id": "8ab40e4b313762f8",
   "metadata": {
    "ExecuteTime": {
     "end_time": "2025-02-23T03:20:19.579471Z",
     "start_time": "2025-02-23T03:20:19.579274Z"
    }
   },
   "source": [
    "clean_data_H1N1.columns"
   ],
   "outputs": [],
   "execution_count": null
  },
  {
   "cell_type": "code",
   "id": "f6f6457edf4848ca",
   "metadata": {
    "ExecuteTime": {
     "end_time": "2025-02-23T03:20:19.581081Z",
     "start_time": "2025-02-23T03:20:19.580797Z"
    }
   },
   "source": [
    "plt.figure(figsize=(10, 6))\n",
    "#plot for vaccinated\n",
    "sns.histplot(data=clean_data_H1N1_df[clean_data_H1N1_df['h1n1_vaccine'] == 1], \n",
    "             x='age_group', kde=False, color='black', label='Vaccinated', bins=20)\n",
    "# Plot for non-vaccinated individuals\n",
    "sns.histplot(data=clean_data_H1N1_df[clean_data_H1N1_df['h1n1_vaccine'] == 0], \n",
    "             x='age_group', kde=False, color='red', label='Non-Vaccinated', bins=20)\n",
    "plt.title('Age Distribution for Vaccinated vs Non-Vaccinated Individuals')\n",
    "plt.xlabel('Age')\n",
    "plt.ylabel('Frequency')\n",
    "plt.legend();"
   ],
   "outputs": [],
   "execution_count": null
  },
  {
   "cell_type": "markdown",
   "id": "120fd0d298aa201b",
   "metadata": {},
   "source": [
    "The stacked bars in the histogram suggests that age is a key factor in vaccine uptake\n",
    "\n",
    "##### Patterns in Vaccine Uptake: \n",
    "\n",
    "* It reveals that non-vaccinated individuals are more concentrated in younger age groups, while older age groups have a higher proportion of vaccinated individuals. This could indicate that age plays a crucial role in vaccine decision-making, with older individuals possibly perceiving a higher risk of H1N1 infection and thus opting for the vaccine.\n",
    "\n",
    "##### Further Insights: \n",
    "\n",
    "* The significant presence of vaccinated individuals in the older age brackets may point to the importance of targeting younger age groups for future vaccination drives, as they show lower uptake. Behavioral campaigns might need to focus on addressing concerns or misconceptions about the vaccine in these groups to increase their participation."
   ]
  },
  {
   "cell_type": "markdown",
   "id": "328863ad50a23c7c",
   "metadata": {},
   "source": [
    "### ii) Vaccine Effectiveness Opinion vs Vaccine Uptake"
   ]
  },
  {
   "cell_type": "code",
   "id": "f51fed346660a18f",
   "metadata": {
    "ExecuteTime": {
     "end_time": "2025-02-23T03:20:19.582435Z",
     "start_time": "2025-02-23T03:20:19.582288Z"
    }
   },
   "source": [
    "plt.figure(figsize=(8, 6))\n",
    "\n",
    "# Create a countplot for vaccine effectiveness opinions, split by vaccine uptake\n",
    "\n",
    "sns.countplot(x=\"opinion_h1n1_vacc_effective\", hue=\"h1n1_vaccine\", data=clean_data_H1N1_df)\n",
    "\n",
    "# Add title and labels\n",
    "plt.title(\"Opinions on H1N1 Vaccine Effectiveness by Vaccine Uptake\")\n",
    "plt.xlabel(\"Opinion on Vaccine Effectiveness\")\n",
    "plt.ylabel(\"Count\")\n",
    "plt.legend(title=\"Vaccine Uptake\", labels=[\"Non-Vaccinated\", \"Vaccinated\"]);"
   ],
   "outputs": [],
   "execution_count": null
  },
  {
   "cell_type": "markdown",
   "id": "2618bf68056beaf9",
   "metadata": {},
   "source": [
    "Observations:\n",
    "\n",
    "##### Opinion Distribution:\n",
    "\n",
    "* The opinions on vaccine effectiveness are likely rated on a scale from 1 to 5 (possibly ranging from \"Very ineffective\" to \"Very effective\").\n",
    "\n",
    "* The largest count of responses is clustered around opinion rating 4 (likely indicating that the majority of individuals felt the vaccine was somewhat effective).\n",
    "\n",
    "* Smaller proportions are seen for opinions rated 1, 2, and 3, which might represent more negative opinions about vaccine effectiveness (e.g., \"Ineffective\" to \"Somewhat ineffective\").\n",
    "\n",
    "* Opinion 5 (possibly \"Very effective\") has a moderate representation, indicating that some people viewed the vaccine positively but less frequently than those who rated it as 4.\n",
    "\n",
    "\n",
    "##### Vaccinated vs Non-Vaccinated:\n",
    "\n",
    "Non-Vaccinated Individuals (Blue): \n",
    "\n",
    "* There is a significant concentration of non-vaccinated individuals with a rating of 4 (indicating that these individuals generally found the vaccine somewhat effective) but did not ultimately get vaccinated. The rating of 4 dominates this group.\n",
    "\n",
    "Vaccinated Individuals (Orange): \n",
    "\n",
    "* The vaccinated group has a smaller, more spread-out distribution. The rating of 4 is still common among vaccinated individuals, but ratings of 5 (possibly \"very effective\") also appear more frequently than in the non-vaccinated group. This suggests that individuals who were more confident in the vaccine's effectiveness were more likely to get vaccinated.\n",
    "\n",
    "##### Imbalance in Opinions:\n",
    "\n",
    "* The non-vaccinated group is overwhelmingly concentrated around the \"somewhat effective\" category (rating 4), while the vaccinated group shows a more balanced distribution of ratings (with more people in the \"very effective\" category, i.e., rating 5).\n",
    "\n",
    "##### Conclusion:\n",
    "\n",
    "* There seems to be a perception gap between the vaccinated and non-vaccinated groups. While both groups have a significant portion of individuals believing that the vaccine was somewhat effective (rating 4), the vaccinated group has a higher proportion of individuals who believe the vaccine was \"very effective\" (rating 5).\n",
    "\n",
    "* This could suggest that individuals who believe more strongly in the effectiveness of the vaccine are more likely to take it, while those with a more neutral or skeptical view (but still perceiving some effectiveness) may be less inclined to get vaccinated.\n",
    "\n",
    "##### Potential Implications:\n",
    "\n",
    "* Public health campaigns could focus on addressing the concerns and doubts among non-vaccinated individuals, particularly those who see the vaccine as somewhat effective but still hesitate to get vaccinated.\n",
    "\n",
    "* Trust and perception of vaccine effectiveness play a significant role in vaccine uptake, which might be an area to focus on for improving vaccination rates."
   ]
  },
  {
   "cell_type": "markdown",
   "id": "b2f7729267068ff7",
   "metadata": {},
   "source": [
    "#### iii) Correlation Heatmap"
   ]
  },
  {
   "cell_type": "code",
   "id": "860e8dbf1c1032c0",
   "metadata": {},
   "source": [
    "# numerical columns \n",
    "numerical_data = clean_data_H1N1_df.select_dtypes(include=['float64', 'int64'])\n",
    "\n",
    "# correlation matrix for numerical columns\n",
    "corr_matrix = numerical_data.corr()\n",
    "\n",
    "# matplotlib figure\n",
    "plt.figure(figsize=(12, 8))\n",
    "\n",
    "# Generate a heatmap of the correlation matrix\n",
    "sns.heatmap(corr_matrix, annot=True, cmap=\"coolwarm\", fmt=\".2f\", linewidths=0.5)\n",
    "\n",
    "# Add title and show the plot\n",
    "plt.title(\"Correlation Heatmap of Numerical Features\")\n",
    "plt.show()"
   ],
   "outputs": [],
   "execution_count": null
  },
  {
   "cell_type": "markdown",
   "id": "6af8003266f6b7cb",
   "metadata": {},
   "source": [
    "##### 1. Moderate Correlations:\n",
    "\n",
    "Behavioral Factors:\n",
    "\n",
    "* Behavioral Variables Correlations: Several behavioral variables show moderate correlations with each other, such as:\n",
    "Mask-wearing, Hand washing, and Avoiding large gatherings have a strong positive correlation with each other (e.g., behavioral_face_mask with behavioral_wash_hands at 0.34). This suggests that individuals who engage in one form of preventive behavior are likely to engage in others as well.\n",
    "\n",
    "* Social distancing behaviors (behavioral_large_gatherings and behavioral_outside_home) also show moderate correlations, suggesting that individuals who avoid large gatherings may also reduce contact outside their homes.\n",
    "\n",
    "Vaccine Recommendations:\n",
    "\n",
    "* Doctor's recommendation for the H1N1 vaccine (doctor_recc_h1n1) has a moderate positive correlation with H1N1 vaccine uptake (h1n1_vaccine with 0.39). \n",
    "\n",
    "* This indicates that individuals who received a recommendation from their doctor were more likely to get vaccinated.\n",
    "\n",
    "Health-Related Factors:\n",
    "\n",
    "* Chronic medical conditions (chronic_med_condition) show weak correlations with most of the behavioral and vaccine-related features but has some connection to H1N1 vaccine effectiveness opinions (opinion_h1n1_vacc_effective with 0.14), suggesting that individuals with chronic conditions may hold specific views on vaccine effectiveness.\n",
    "\n",
    "##### 2. Weak or No Correlations:\n",
    "\n",
    "* Household Size Variables (household_adults and household_children) show very weak or no significant correlations with vaccine-related factors. \n",
    "\n",
    "* This implies that the number of people in a household doesn't strongly affect whether an individual receives the vaccine or holds a specific opinion about it.\n",
    "\n",
    "* The correlation between H1N1 vaccine effectiveness opinion and opinion on H1N1 risk is moderate (0.25), but it is not very strong. \n",
    "\n",
    "* This could suggest that individuals' perceived effectiveness of the vaccine does not always align with their perception of the risk of H1N1.\n",
    "\n",
    "##### 3. Vaccine Uptake and Behavioral Factors:\n",
    "\n",
    "* H1N1 vaccine uptake is negatively correlated with some behavioral factors, such as behavioral_avoidance (correlation of -0.05) and behavioral_face_mask (correlation of -0.07), suggesting that individuals who take actions to avoid illness may have lower vaccine uptake, though the relationship is weak.\n",
    "\n",
    "##### 4. Key Takeaways:\n",
    "\n",
    "* Public health implication: It would be beneficial to target people who engage in specific health behaviors (like mask-wearing, hand washing, and avoiding gatherings) for vaccination campaigns, as these individuals seem to be more concerned with preventing illness.\n",
    "\n",
    "* Doctor Recommendations: Given the strong positive correlation between doctor recommendations and vaccine uptake, ensuring healthcare providers actively recommend the vaccine could improve vaccine uptake.\n",
    "\n",
    "#### Conclusion:\n",
    "\n",
    "* The heatmap reveals various relationships between behavioral factors, medical conditions, and vaccine uptake. There are strong correlations between preventive health behaviors and moderate correlations between vaccine uptake and doctor recommendations. \n",
    "\n",
    "* Addressing behaviors and perceptions surrounding vaccine effectiveness and integrating these findings into future health campaigns could help improve H1N1 vaccination rates."
   ]
  },
  {
   "cell_type": "markdown",
   "id": "52f9260c587b83c4",
   "metadata": {},
   "source": [
    "### 3. Multivariate Visualizations (Multiple Variables at Once)"
   ]
  },
  {
   "cell_type": "markdown",
   "id": "249c0a6fdbf8aecd",
   "metadata": {},
   "source": [
    "#### i) Facet plot of the H1N1 vaccine uptake based on gender and education level"
   ]
  },
  {
   "cell_type": "code",
   "id": "6e28c2ecb7ce974c",
   "metadata": {},
   "source": [
    "\n",
    "\n",
    "# Assuming 'clean_data_H1N1' is your DataFrame\n",
    "# Use FacetGrid to create a grid of bar plots based on multiple categorical variables\n",
    "\n",
    "g = sns.FacetGrid(clean_data_H1N1_df, col=\"education\", row=\"sex\", hue=\"h1n1_vaccine\", height=4, aspect=1.5)\n",
    "\n",
    "# Map countplot to the grid\n",
    "g.map(sns.countplot, \"h1n1_vaccine\")\n",
    "\n",
    "# Add titles and labels\n",
    "g.set_axis_labels(\"H1N1 Vaccine Uptake\", \"Count\")\n",
    "g.set_titles(col_template=\"{col_name} Education\", row_template=\"{row_name} Gender\")\n",
    "\n",
    "# Show plot\n",
    "plt.show()\n"
   ],
   "outputs": [],
   "execution_count": null
  },
  {
   "cell_type": "markdown",
   "id": "fb282592a7e4e112",
   "metadata": {},
   "source": [
    "Observations:\n",
    "\n",
    "#### Vaccine Uptake by Gender:\n",
    "\n",
    "* The female gender (top row) shows higher vaccine uptake across all education levels compared to the male gender (bottom row).\n",
    "\n",
    "* For both males and females, the non-vaccinated individuals (represented by the blue bars) far outweigh the vaccinated individuals (represented by the orange bars), suggesting a low overall uptake.\n",
    "\n",
    "#### Vaccine Uptake by Education Level:\n",
    "\n",
    "* Less than 12 Years Education: Both males and females in this group have very low vaccine uptake, with a significantly higher number of non-vaccinated individuals. However, the number of vaccinated individuals is very small.\n",
    "\n",
    "* 12 Years Education: This group has a slightly higher vaccine uptake compared to the \"less than 12 years\" group, but the overall trend still shows that most individuals are non-vaccinated.\n",
    "\n",
    "* Some College Education: For both genders, there’s an increase in the number of vaccinated individuals. However, the non-vaccinated individuals still dominate.\n",
    "\n",
    "* College Graduate Education: There is a notable increase in vaccine uptake for both males and females with college graduate education, with more vaccinated individuals than in the other groups. Even so, non-vaccinated individuals are still more prevalent.\n",
    "\n",
    "#### Key Insights:\n",
    "\n",
    "* Higher education correlates with higher vaccine uptake: As education level increases, vaccine uptake also increases, particularly for individuals with a college graduate education.\n",
    "\n",
    "* Gender differences: While vaccine uptake is higher among females across all education levels, the difference in vaccine uptake between genders appears to be minimal in each group. \n",
    "\n",
    "* The overall trend indicates that males and females both show relatively low vaccine uptake, with females slightly more likely to be vaccinated.\n",
    "\n",
    "* Low overall uptake: Despite increasing vaccine uptake with higher education, the overall vaccine uptake remains low across all groups, with many individuals choosing not to get vaccinated.\n",
    "\n",
    "### Conclusion:\n",
    "\n",
    "* The plot reveals that education level plays a significant role in vaccine uptake, with individuals having a higher education more likely to receive the H1N1 vaccine. However, even among individuals with college graduate education, the overall uptake is still low. \n",
    "\n",
    "* This points to the need for more targeted public health campaigns addressing vaccine hesitancy, even among those with higher education, and highlighting the importance of vaccination for protecting both individual and public health. \n",
    "\n",
    "* Additionally, outreach efforts might be necessary to increase vaccine confidence among males and individuals with lower education levels."
   ]
  },
  {
   "cell_type": "markdown",
   "id": "4c718a408dae92f3",
   "metadata": {},
   "source": [
    "\n",
    "# Hypothesis Testing"
   ]
  },
  {
   "cell_type": "markdown",
   "id": "64d76288685adf4b",
   "metadata": {},
   "source": [
    "### Is there a significant difference in H1N1 vaccine uptake between individuals with different levels of education (e.g., no high school, high school graduate, college degree, etc.)?"
   ]
  },
  {
   "cell_type": "markdown",
   "id": "9c7b986706eaf4e4",
   "metadata": {},
   "source": [
    "##### H₀: There is no significant difference in the uptake of the H1N1 vaccine between individuals with different levels of education.\n",
    "\n",
    "\n",
    "##### H₁: There is a significant difference in the uptake of the H1N1 vaccine between individuals with different levels of education.\n",
    "\n"
   ]
  },
  {
   "cell_type": "markdown",
   "id": "78c5a561a8944198",
   "metadata": {},
   "source": [
    "1. Null Hypothesis (H₀):\n",
    "The null hypothesis represents the idea that there is no significant difference in the H1N1 vaccine uptake between individuals with different levels of education. In other words, education level does not have a significant impact on whether a person gets vaccinated or not.\n",
    "\n",
    "This assumes that education level (e.g., no high school, high school graduate, college degree, etc.) does not influence whether a person receives the vaccine.\n",
    "\n",
    "2. Alternative Hypothesis (H₁):\n",
    "\n",
    "The alternative hypothesis is the opposite of the null hypothesis and suggests that there is a significant difference in the uptake of the H1N1 vaccine between individuals with different levels of education.\n",
    "\n",
    "Alternative Hypothesis (H₁): \n",
    "\n",
    "#### H₁: There is a significant difference in the uptake of the H1N1 vaccine between individuals with different levels of education.\n",
    "This means that education level plays a role in whether individuals are likely to receive the vaccine or not.\n",
    "\n",
    "3. Purpose of the Hypothesis Test:\n",
    "\n",
    "The purpose of the hypothesis test is to evaluate the evidence from the sample data to determine whether we can reject the null hypothesis (H₀) in favor of the alternative hypothesis (H₁).\n",
    "\n",
    "If we reject the null hypothesis (i.e., find a significant difference), it suggests that there is evidence that education level influences vaccine uptake.\n",
    "\n",
    "If we fail to reject the null hypothesis (i.e., no significant difference), it suggests that there is no evidence to show that education level significantly affects vaccine uptake.\n",
    "\n",
    "Statistical Test:\n",
    "\n",
    "To test these hypotheses, a common approach is to use an ANOVA (Analysis of Variance) test, since I am comparing more than two groups (different levels of education). ANOVA helps determine if the mean vaccine uptake differs significantly across the different education levels."
   ]
  },
  {
   "cell_type": "code",
   "id": "aadb1a5bb82e5d4e",
   "metadata": {},
   "source": [
    "# Convert the 'education' column to categorical data \n",
    "education_categories = ['< 12 Years', '12 Years', 'Some College', 'College Graduate']\n",
    "clean_data_H1N1_df['education'] = pd.Categorical(clean_data_H1N1_df['education'], categories=education_categories)\n",
    "\n",
    "# Group the data by education level and get the uptake of H1N1 vaccine for each group\n",
    "groups = [clean_data_H1N1_df[clean_data_H1N1_df['education'] == category]['h1n1_vaccine'] for category in education_categories]\n",
    "\n",
    "# Perform one-way ANOVA test\n",
    "f_statistic, p_value = stats.f_oneway(*groups)\n",
    "\n",
    "# Print the results\n",
    "print(f\"F-statistic: {f_statistic}\")\n",
    "print(f\"P-value: {p_value}\")\n",
    "\n",
    "# Interpretation of the results\n",
    "if p_value < 0.05:\n",
    "    print(\"Reject the null hypothesis: There is a significant difference in H1N1 vaccine uptake between education levels.\")\n",
    "else:\n",
    "    print(\"Fail to reject the null hypothesis: There is no significant difference in H1N1 vaccine uptake between education levels.\")"
   ],
   "outputs": [],
   "execution_count": null
  },
  {
   "cell_type": "markdown",
   "id": "f574d37f75749ba6",
   "metadata": {},
   "source": [
    "#### Detailed Analysis of the ANOVA Results:\n",
    "\n",
    "##### F-statistic: 34.146\n",
    "\n",
    "* The F-statistic is the ratio of the variance between the groups (education levels) to the variance within the groups (individual differences within each education level). A larger F-statistic indicates that the differences between the groups are larger relative to the variability within each group.\n",
    "\n",
    "* In this case, the F-statistic of 34.146 is quite large. This suggests that the variance in H1N1 vaccine uptake between the different education levels is much larger than the variance within each education group. This indicates a significant difference in the vaccine uptake between the groups.\n",
    "\n",
    "##### P-value: 5.12e-22\n",
    "\n",
    "* The p-value represents the probability of obtaining the observed results (or more extreme results) under the assumption that the null hypothesis is true (i.e., there is no significant difference in vaccine uptake between education levels).\n",
    "\n",
    "* A p-value of 5.12e-22 (which is extremely small) is much less than the typical significance level of 0.05. This very small p-value indicates that the likelihood of observing such a large difference in vaccine uptake across education levels due to random chance is virtually zero.\n",
    "\n",
    "##### Conclusion: Reject the Null Hypothesis\n",
    "\n",
    "* The null hypothesis (H₀) posits that there is no significant difference in H1N1 vaccine uptake between individuals with different education levels.\n",
    "\n",
    "* The alternative hypothesis (H₁) suggests that there is a significant difference in vaccine uptake between individuals with different education levels.\n",
    "\n",
    "* Since the p-value is extremely small (much less than 0.05), we reject the null hypothesis. This means that there is a statistically significant difference in the H1N1 vaccine uptake between the education levels.\n",
    "\n",
    "##### What Does This Mean?\n",
    "\n",
    "The rejection of the null hypothesis means that education level plays a significant role in determining whether individuals receive the H1N1 vaccine. Specifically:\n",
    "\n",
    "* Individuals with higher education levels (e.g., college graduates) are more likely to get vaccinated compared to individuals with lower education levels (e.g., those with less than a high school education).\n",
    "\n",
    "##### This could be due to various factors, including:\n",
    "\n",
    "* Higher awareness and better access to information about the vaccine.\n",
    "\n",
    "* Trust in medical advice and healthcare systems, which may be more prevalent among those with higher education.\n",
    "\n",
    "* Greater access to healthcare and higher income levels associated with higher education, which might facilitate vaccine access.\n",
    "\n",
    "#### Implications for Public Health Policy:\n",
    "\n",
    "##### Targeted Interventions:\n",
    "\n",
    "Given that education level significantly affects vaccine uptake, public health campaigns could benefit from being tailored to different education groups. For example:\n",
    "\n",
    "* For individuals with lower education levels, more targeted educational campaigns might be needed to address concerns about the vaccine and raise awareness about its importance.\n",
    "\n",
    "* Community outreach programs that address specific barriers (such as vaccine misinformation or logistical issues) in lower-education populations might help improve vaccine uptake.\n",
    "\n",
    "##### Equity in Healthcare Access:\n",
    "\n",
    "* The analysis highlights that health disparities may exist between different education groups. Those with lower education levels may face greater barriers in accessing vaccines or may have less trust in the vaccine’s efficacy.\n",
    "\n",
    "* Public health policies could focus on reducing these disparities by ensuring that vaccination programs are equitable and accessible to everyone, regardless of their education level.\n",
    "\n",
    "##### Focus on Education:\n",
    "\n",
    "* The relationship between education and vaccine uptake reinforces the need for public health initiatives to not only provide access to vaccines but also engage in educational efforts that empower individuals with knowledge about the safety and importance of vaccines.\n",
    "\n",
    "* This could include partnerships with schools, community centers, and local healthcare providers to distribute accurate vaccine information to different segments of the population.\n",
    "\n",
    "#### Final Thought:\n",
    "\n",
    "* The F-statistic and p-value demonstrate strong evidence that education level significantly affects H1N1 vaccine uptake. \n",
    "\n",
    "* The data supports the need for tailored interventions to increase vaccine uptake, especially among lower-education groups, and underscores the importance of addressing health disparities in future vaccination campaigns."
   ]
  },
  {
   "cell_type": "markdown",
   "id": "bcb99e88ac40b47f",
   "metadata": {},
   "source": [
    "# Modeling "
   ]
  },
  {
   "cell_type": "markdown",
   "id": "c76dc98d32797762",
   "metadata": {},
   "source": [
    "The first question this part will answering is:\n",
    "\n",
    "#### Which machine learning models is best for predicting the likelihood of an individual receiving the H1N1 vaccine?(Modeling)\n",
    "\n",
    "\n"
   ]
  },
  {
   "cell_type": "markdown",
   "id": "ba3792808a703eda",
   "metadata": {},
   "source": [
    "### Preprocessing "
   ]
  },
  {
   "cell_type": "markdown",
   "id": "271f1577376c078",
   "metadata": {},
   "source": [
    "### label encoding vs onehotencoding\n",
    "\n",
    "##### 1. LabelEncoder (Best for Ordinal Features)\n",
    "\n",
    "* Ordinal features have a natural order, where the values have a meaningful ranking or progression. LabelEncoder can convert these ordinal categories into numerical values without introducing ambiguity.\n",
    "\n",
    "Features likely suited for LabelEncoder:\n",
    "\n",
    "* age_group: If the age groups have a natural order (e.g., \"18-34 years\", \"35-44 years\", etc.), then LabelEncoder would be appropriate for encoding the different age ranges as ordered values.\n",
    "\n",
    "* education: If education levels are considered ordinal (e.g., \"<12 years\", \"12 years\", \"Some College\", \"College Graduate\"), LabelEncoder can be used because there is a natural progression in education levels.\n",
    "\n",
    "* income_poverty: This could be ordinal (e.g., \"Below Poverty\", \"Above Poverty\"), as it may represent categorical status rather than an ordinal scale.\n",
    "\n",
    "##### 2. OneHotEncoder (Best for Nominal Features)\n",
    "\n",
    "Nominal features are categories with no inherent order. \n",
    "\n",
    "* For example, gender, race, and marital status do not have any meaningful ranking and should be encoded as separate binary variables (using OneHotEncoding).\n",
    "\n",
    "Features likely suited for OneHotEncoder:\n",
    "\n",
    "* race: Race is a nominal feature (e.g., \"White\", \"Black\", \"Asian\"), and there is no inherent order between these categories.\n",
    "\n",
    "* sex: Sex is a nominal feature (e.g., \"Male\", \"Female\") with no meaningful order.\n",
    "\n",
    "* marital_status: This is nominal (e.g., \"Married\", \"Single\", \"Divorced\"), as the categories do not have a natural ranking.\n",
    "\n",
    "* employment_status: This is nominal (e.g., \"Employed\", \"Unemployed\", \"Retired\"), as there is no inherent order.\n",
    "\n",
    "* hhs_geo_region: This is nominal (e.g., geographical region codes) and does not have a natural order."
   ]
  },
  {
   "cell_type": "code",
   "id": "d31513815be9448a",
   "metadata": {},
   "source": [
    "clean_data_H1N1_df.head()"
   ],
   "outputs": [],
   "execution_count": null
  },
  {
   "cell_type": "code",
   "id": "2e97b6c8ca21e70f",
   "metadata": {},
   "source": [
    "clean_data_H1N1_df[\"income_poverty\"].unique()"
   ],
   "outputs": [],
   "execution_count": null
  },
  {
   "cell_type": "code",
   "id": "c8640d60f6f0e366",
   "metadata": {},
   "source": [
    "\n",
    "labels = LabelEncoder()\n",
    "clean_data_H1N1_df[\"age_group\"] =labels.fit_transform(clean_data_H1N1_df[\"age_group\"])\n",
    "clean_data_H1N1_df.head(20)"
   ],
   "outputs": [],
   "execution_count": null
  },
  {
   "cell_type": "code",
   "id": "399b424849f0b24b",
   "metadata": {},
   "source": [
    "# Initialize LabelEncoder\n",
    "label_encoder = LabelEncoder()\n",
    "\n",
    "# List of ordinal features for LabelEncoder\n",
    "ordinal_columns = ['age_group', 'education', \"income_poverty\"]\n",
    "\n",
    "# Apply LabelEncoder to each of the ordinal columns\n",
    "for column in ordinal_columns:\n",
    "    clean_data_H1N1_df[column] = label_encoder.fit_transform(clean_data_H1N1_df[column])\n",
    "\n",
    "# Display the first 20 rows of the DataFrame to check\n",
    "clean_data_H1N1_df"
   ],
   "outputs": [],
   "execution_count": null
  },
  {
   "cell_type": "code",
   "id": "bea836bc3a084a1d",
   "metadata": {},
   "source": [
    "\n",
    "# Initialize OneHotEncoder with 'drop' to avoid dummy variable trap\n",
    "onehot_encoder = OneHotEncoder(drop='first', sparse_output=False)\n",
    "\n",
    "# List of nominal features for OneHotEncoder\n",
    "nominal_columns = ['marital_status', 'employment_status', \"race\", \"sex\"]\n",
    "\n",
    "# Apply OneHotEncoder to each of the nominal columns and add the results to the DataFrame\n",
    "for column in nominal_columns:\n",
    "    # Fit and transform the data for the categorical feature\n",
    "    encoded_data = onehot_encoder.fit_transform(clean_data_H1N1_df[[column]])\n",
    "    \n",
    "    # Convert the numpy array to a DataFrame with appropriate column names\n",
    "    encoded_df = pd.DataFrame(encoded_data, columns=onehot_encoder.get_feature_names_out([column]))\n",
    "    \n",
    "    # Drop original column and add encoded columns\n",
    "    clean_data_H1N1_df = clean_data_H1N1_df.drop(columns=[column])  # Drop the original column\n",
    "    clean_data_H1N1_df = pd.concat([clean_data_H1N1_df, encoded_df], axis=1)  # Add the encoded columns\n",
    "\n",
    "# Display the first 20 rows of the updated DataFrame to verify\n",
    "clean_data_H1N1_df.head(20)\n",
    "\n",
    "\n"
   ],
   "outputs": [],
   "execution_count": null
  },
  {
   "cell_type": "code",
   "id": "db26b278768d48a5",
   "metadata": {},
   "source": [
    "#Data splitting\n",
    "\n",
    "x = clean_data_H1N1_df.drop(\"h1n1_vaccine\",axis=1)\n",
    "y = clean_data_H1N1_df[\"h1n1_vaccine\"]\n",
    "\n",
    "\n",
    "X_train, X_test, y_train, y_test = train_test_split(x, y, test_size=0.2, random_state=0, stratify=y)\n",
    "X_train"
   ],
   "outputs": [],
   "execution_count": null
  },
  {
   "cell_type": "code",
   "id": "79d2626551b055dd",
   "metadata": {},
   "source": [
    "#clean_data_H1N1[\"h1n1_vaccine\"]"
   ],
   "outputs": [],
   "execution_count": null
  },
  {
   "cell_type": "code",
   "id": "9460ede934c37869",
   "metadata": {},
   "source": [
    "# Check if there are any NaN values in the target column\n",
    "#clean_data_H1N1['h1n1_vaccine'].isna().sum()\n"
   ],
   "outputs": [],
   "execution_count": null
  },
  {
   "cell_type": "code",
   "id": "1c92ae04ff325129",
   "metadata": {},
   "source": [
    "clean_data_H1N1_df.isna().sum()"
   ],
   "outputs": [],
   "execution_count": null
  },
  {
   "cell_type": "code",
   "id": "e7c6b3a31897ca7d",
   "metadata": {},
   "source": [
    "# Replace NaN values in the target column with the mode (most frequent value)\n",
    "#clean_data_H1N1['h1n1_vaccine'].fillna(clean_data_H1N1['h1n1_vaccine'].mode()[0], inplace=True)\n"
   ],
   "outputs": [],
   "execution_count": null
  },
  {
   "cell_type": "code",
   "id": "bc507650a76d8606",
   "metadata": {},
   "source": [
    "#standardizing\n",
    "sc = StandardScaler()\n",
    "X_train_sc = sc.fit_transform(X_train)\n",
    "X_test_sc = sc.transform(X_test)"
   ],
   "outputs": [],
   "execution_count": null
  },
  {
   "cell_type": "code",
   "id": "abdf220d89f9bba5",
   "metadata": {},
   "source": [
    "class_distribution = clean_data_H1N1_df['h1n1_vaccine'].value_counts()\n",
    "\n",
    "# Create a pie chart\n",
    "plt.figure(figsize=(6, 6))\n",
    "plt.pie(class_distribution, labels=class_distribution.index, autopct='%1.1f%%', startangle=90, colors=sns.color_palette('pastel'))\n",
    "\n",
    "# Title for the pie chart\n",
    "plt.title('Class Distribution of H1N1 Vaccine Uptake')\n",
    "\n",
    "# Display the pie chart\n",
    "plt.show()"
   ],
   "outputs": [],
   "execution_count": null
  },
  {
   "cell_type": "markdown",
   "id": "79c2bd546e4cbcf",
   "metadata": {},
   "source": [
    "Based on the above piechart, the Data is highly imbalanced. It is biased towards those who have not been vaccinated. SMOTE which generates synthetic data will be used to balance the data"
   ]
  },
  {
   "cell_type": "code",
   "id": "bfb9ddb6613a8f37",
   "metadata": {},
   "source": [
    "from imblearn.over_sampling import SMOTE\n",
    "# Initialize SMOTE to balance the classes\n",
    "smote = SMOTE(sampling_strategy='auto', random_state=0)\n",
    "\n",
    "# Apply SMOTE to the training set (this generates synthetic data)\n",
    "X_train_resampled, y_train_resampled = smote.fit_resample(X_train_sc, y_train)\n",
    "\n",
    "pd.Series(y_train_resampled).value_counts()\n"
   ],
   "outputs": [],
   "execution_count": null
  },
  {
   "cell_type": "markdown",
   "id": "e29a4da8c79f658c",
   "metadata": {},
   "source": [
    "### Performance metric\n",
    "\n",
    "Performance will be evaluated according to the area under the receiver operating characteristic curve (ROC AUC) for each of the target variable. \n",
    "\n",
    "The mean of the two scores will be the overall score. A higher value indicates stronger performance.\n",
    "\n",
    "ROC AUC\n",
    "\n",
    "1. Definition:\n",
    "\n",
    "ROC AUC (Receiver Operating Characteristic - Area Under the Curve) measures a classification model’s ability to distinguish between classes. It summarizes the trade-off between sensitivity (recall) and specificity.\n",
    "\n",
    "2. Interpretation:\n",
    "\n",
    "AUC = 1.0 → Perfect classifier\n",
    "AUC > 0.8 → Good model\n",
    "AUC = 0.5 → Random guessing\n",
    "AUC < 0.5 → Worse than random\n",
    "\n",
    "3. ROC Curve Components:\n",
    "\n",
    "True Positive Rate (TPR) = Sensitivity = TP / (TP + FN)\n",
    "False Positive Rate (FPR) = 1 - Specificity = FP / (FP + TN)\n",
    "\n",
    "4. Usage:\n",
    "\n",
    "Helps compare models\n",
    "Works well with imbalanced datasets\n",
    "AUC close to 1.0 means better discrimination\n",
    "\n"
   ]
  },
  {
   "cell_type": "markdown",
   "id": "d751a863947da705",
   "metadata": {},
   "source": [
    "## 1) LogisticRegression"
   ]
  },
  {
   "attachments": {
    "image-2.png": {
     "image/png": "[encoded data removed]"
    },
    "image-3.png": {
     "image/png": "[encoded data removed]"
    },
    "image-4.png": {
     "image/png": "[encoded data removed]"
    },
    "image.png": {
     "image/png": "[encoded data removed]"
    }
   },
   "cell_type": "markdown",
   "id": "a1af3bd4a4536c10",
   "metadata": {},
   "source": [
    "**Overview**\n",
    "* Purpose: A statistical method used for binary classification (e.g., yes/no, 0/1), though it can be extended to multi-class problems.\n",
    "\n",
    "* Core Idea: Predicts the probability that an instance belongs to a particular class using a logistic function (sigmoid), which maps linear combinations of features to values between 0 and 1.\n",
    "\n",
    "\n",
    "* Transforms linear regression output ![ ](attachment:image.png) into a probability: ![image-2.png](attachment:image-2.png)\n",
    "\n",
    "**Decision Boundary:**\n",
    "\n",
    "A threshold (e.g., 0.5) converts probabilities to class labels. If P(y=1)≥0.5, predict class 1; else, predict class 0.\n",
    "\n",
    "The boundary is linear in feature space.\n",
    "\n",
    "**Odds and Log-Odds**\n",
    "\n",
    "Odds: P(y=1)/(1−P(y=1)) = z\n",
    "\n",
    "​This linear relationship is the basis of logistic regression.\n",
    "\n",
    "**Cost Function: Log Loss**\n",
    "\n",
    "Objective: Minimize the negative log-likelihood (cross-entropy loss)\n",
    "![image-3.png](attachment:image-3.png)\n",
    "\n",
    "Properties: Convex but not closed-form; solved via gradient descent or Newton-Raphson.\n",
    "\n",
    "**Coefficient Estimation**\n",
    "Maximum Likelihood Estimation (MLE):\n",
    "\n",
    "Finds coefficients \n",
    "* β that maximize the likelihood of observing the data.\n",
    "\n",
    "* Iterative optimization (e.g., Iteratively Reweighted Least Squares).\n",
    "\n",
    "![image-4.png](attachment:image-4.png)\n",
    "\n",
    "**Assumptions**\n",
    "\n",
    "* **Binary Outcome:** Dependent variable is categorical (binary or ordinal for extensions).\n",
    "\n",
    "* **Linearity of Log-Odds:** Log-odds and features have a linear relationship.\n",
    "\n",
    "* **Independence:** Observations are independent.\n",
    "\n",
    "* **No Severe Multicollinearity:** Features should not be highly correlated.\n",
    "\n",
    "**Evaluation Metrics**\n",
    "\n",
    "* Confusion Matrix: Accuracy, Precision, Recall, F1-Score.\n",
    "\n",
    "* ROC-AUC: Measures performance across all thresholds.\n",
    "\n",
    "* Log-Loss: Directly evaluates predicted probabilities.\n",
    "\n"
   ]
  },
  {
   "cell_type": "code",
   "id": "fa347044f583c099",
   "metadata": {},
   "source": [
    "model = LogisticRegression(solver=\"liblinear\", random_state=0)\n",
    "model.fit(X_train_resampled, y_train_resampled)"
   ],
   "outputs": [],
   "execution_count": null
  },
  {
   "cell_type": "code",
   "id": "896316330759da18",
   "metadata": {},
   "source": [
    "y_pred = model.predict(X_test_sc)"
   ],
   "outputs": [],
   "execution_count": null
  },
  {
   "cell_type": "code",
   "id": "cfa7db651376e75e",
   "metadata": {},
   "source": [
    "# Make predictions on the resampled training data\n",
    "y_train_pred = model.predict(X_train_resampled)\n",
    "\n",
    "# Calculate accuracy of the model on the resampled training data\n",
    "train_accuracy = accuracy_score(y_train_resampled, y_train_pred)\n",
    "\n",
    "# Optionally, round the accuracy to 2 decimal places\n",
    "train_accuracy = round(train_accuracy, 2)*100\n",
    "\n",
    "# Print the training accuracy\n",
    "print(f\"Training Accuracy: {train_accuracy}\")\n"
   ],
   "outputs": [],
   "execution_count": null
  },
  {
   "cell_type": "code",
   "id": "ab2d225b6b4d34e3",
   "metadata": {},
   "source": [
    "test_accuracy = accuracy_score(y_test, y_pred)*100\n",
    "test_accuracy = round(test_accuracy, 2)\n",
    "test_accuracy"
   ],
   "outputs": [],
   "execution_count": null
  },
  {
   "cell_type": "code",
   "id": "7cdca89731a2044e",
   "metadata": {},
   "source": [
    "# Compute confusion matrix\n",
    "conf_1=confusion_matrix(y_test, y_pred)\n",
    "conf_1"
   ],
   "outputs": [],
   "execution_count": null
  },
  {
   "cell_type": "code",
   "id": "96b7e8309410e7e7",
   "metadata": {},
   "source": [
    "\n",
    "# Get the predicted probabilities for the positive class\n",
    "y_pred_proba = model.predict_proba(X_test_sc)[:, 1]  # Probabilities for class 1 (positive class)\n",
    "\n",
    "# Calculate the ROC AUC score\n",
    "roc_auc = roc_auc_score(y_test, y_pred_proba)*100\n",
    "\n",
    "# Print the ROC AUC score\n",
    "print(f\"ROC AUC: {roc_auc:.4f}\")\n"
   ],
   "outputs": [],
   "execution_count": null
  },
  {
   "cell_type": "markdown",
   "id": "92f905267515b8a0",
   "metadata": {},
   "source": [
    "#### Hyperparameter Tuning "
   ]
  },
  {
   "cell_type": "code",
   "id": "bc555a4b1b7a23d6",
   "metadata": {},
   "source": [
    "# Define the Logistic Regression model\n",
    "model_1 = LogisticRegression(random_state=0)\n",
    "\n",
    "\n",
    "# Define the parameter grid for hyperparameter tuning\n",
    "param_dist = {\n",
    "    'solver': ['liblinear', 'newton-cg', 'lbfgs', 'saga'],\n",
    "    'max_iter': np.arange(100, 1001, 100),  # Values for max_iter (number of iterations)\n",
    "    'C': np.logspace(-4, 4, 10),  # Regularization strength\n",
    "    'penalty': ['l2'],  # Only 'l2' penalty for these solvers\n",
    "    'fit_intercept': [True, False],  # Whether to include an intercept in the model\n",
    "}\n",
    "\n",
    "# Set up RandomizedSearchCV\n",
    "random_search = RandomizedSearchCV(\n",
    "    estimator=model_1, \n",
    "    param_distributions=param_dist, \n",
    "    n_iter=50,  # Number of parameter settings to sample\n",
    "    cv=5,  # Number of folds in cross-validation\n",
    "    random_state=0,\n",
    "    n_jobs=-1,  # Use all available cores for parallel processing\n",
    "    verbose=2\n",
    ")\n",
    "\n",
    "# Fit the model to the training data using RandomizedSearchCV\n",
    "random_search.fit(X_train_resampled, y_train_resampled)\n",
    "\n",
    "# Get the best parameters found during RandomizedSearchCV\n",
    "best_params = random_search.best_params_\n",
    "print(f\"Best Parameters: {best_params}\")\n",
    "\n",
    "# Make predictions on the test set\n",
    "y_pred_1 = random_search.predict(X_test_sc)\n",
    "\n",
    "# Calculate accuracy of the tuned model\n",
    "accuracy = accuracy_score(y_test, y_pred_1)\n",
    "print(f\"Accuracy of tuned model: {accuracy:.4f}\")"
   ],
   "outputs": [],
   "execution_count": null
  },
  {
   "cell_type": "code",
   "id": "ec18281cc51283b9",
   "metadata": {},
   "source": [
    "# Initialize the Logistic Regression model with the best parameters\n",
    "best_model_1 = LogisticRegression(\n",
    "    solver='liblinear',\n",
    "    penalty='l2',\n",
    "    max_iter=100,\n",
    "    fit_intercept=True,\n",
    "    C=0.0464,\n",
    "    random_state=42\n",
    ")\n",
    "\n",
    "# Train the model with the training data\n",
    "best_model_1.fit(X_train_resampled, y_train_resampled)\n",
    "\n",
    "# Make predictions on the test set\n",
    "y_pred_best = best_model_1.predict(X_test_sc)\n",
    "\n",
    "# Calculate accuracy of the tuned model\n",
    "test_accuracy_best = accuracy_score(y_test, y_pred_best) * 100\n",
    "test_accuracy_best = round(test_accuracy_best, 2)\n",
    "\n",
    "# Print the test accuracy\n",
    "print(f\"Test Accuracy with Tuned Model: {test_accuracy_best}%\")"
   ],
   "outputs": [],
   "execution_count": null
  },
  {
   "cell_type": "code",
   "id": "6f21ead7b496c7e8",
   "metadata": {},
   "source": [
    "# Compute confusion matrix\n",
    "conf=confusion_matrix(y_test, y_pred_1)\n",
    "conf"
   ],
   "outputs": [],
   "execution_count": null
  },
  {
   "cell_type": "code",
   "id": "5edb4c6ae4c81522",
   "metadata": {},
   "source": [
    "\n",
    "# Get the predicted probabilities for the positive class\n",
    "y_pred_proba = best_model_1.predict_proba(X_test_sc)[:, 1]  # Probabilities for class 1 (positive class)\n",
    "\n",
    "# Calculate the ROC AUC score\n",
    "roc_auc = roc_auc_score(y_test, y_pred_proba)*100\n",
    "\n",
    "# Print the ROC AUC score\n",
    "print(f\"ROC AUC: {roc_auc:.4f}\")\n"
   ],
   "outputs": [],
   "execution_count": null
  },
  {
   "cell_type": "markdown",
   "id": "abf25c85c9af7137",
   "metadata": {},
   "source": [
    "## 2) Decision Tree"
   ]
  },
  {
   "attachments": {
    "image-2.png": {
     "image/png": "[encoded data removed]"
    },
    "image-3.png": {
     "image/png": "[encoded data removed]"
    },
    "image.png": {
     "image/png": "[encoded data removed]"
    }
   },
   "cell_type": "markdown",
   "id": "f2a640b1",
   "metadata": {},
   "source": [
    "In-Depth Notes on Decision Trees\n",
    "\n",
    "**1. Overview**\n",
    "\n",
    "A Decision Tree is a hierarchical model that makes predictions by splitting data into subsets based on feature values. \n",
    "\n",
    "It follows a tree structure, where each decision leads to a new branch until a final classification or regression output is reached.\n",
    "\n",
    "**2. Structure of a Decision Tree**\n",
    "\n",
    "Root Node: The top-most node representing the entire dataset.\n",
    "\n",
    "Decision Nodes: Intermediate nodes where the data is split based on a condition.\n",
    "\n",
    "Leaf Nodes: The terminal nodes that provide the final classification or numerical prediction.\n",
    "\n",
    "Branches: Connections between nodes representing decision paths\n",
    "\n",
    "**3. Splitting Criteria**\n",
    "\n",
    "A Decision Tree determines the best split using impurity measures that assess how mixed the data is. The goal is to create purer subsets.\n",
    "\n",
    "3.1 For Classification Trees\n",
    "\n",
    "* Gini Impurity: Measures how often a randomly chosen element would be incorrectly classified.\n",
    "\n",
    "![image.png](attachment:image.png)\n",
    "Ranges from 0 (pure split) to 0.5 (even split).\n",
    "\n",
    "* Entropy (Information Gain): Measures the uncertainty in the dataset.\n",
    "\n",
    "![image-2.png](attachment:image-2.png)\n",
    "\n",
    "Information Gain = Entropy(parent) - Weighted Entropy(children).\n",
    "\n",
    "A high Information Gain means a good split\n",
    "\n",
    "3.2 For Regression Trees\n",
    "\n",
    "Mean Squared Error (MSE): Measures the variance within subsets.\n",
    "\n",
    "![image-3.png](attachment:image-3.png)\n",
    "\n",
    "The tree selects splits that minimize MSE.\n",
    "\n",
    "Mean Absolute Error (MAE): Measures the absolute differences between predicted and actual values.\n",
    "\n",
    "**4. Stopping Criteria**\n",
    "\n",
    "A tree can grow until every data point is isolated, leading to overfitting. To prevent this, stopping criteria include:\n",
    "\n",
    "Maximum depth: Limits the number of splits.\n",
    "\n",
    "Minimum samples per split: Prevents splits if a node has too few samples.\n",
    "\n",
    "Minimum impurity decrease: A threshold for stopping based on improvement in purity.\n",
    "\n",
    "**5. Pruning (Regularization for Decision Trees)**\n",
    "\n",
    "Pruning reduces model complexity and improves generalization by trimming unnecessary branches.\n",
    "\n",
    "Pre-Pruning (Early Stopping): Stops tree growth before it overfits (e.g., setting max depth).\n",
    "\n",
    "Post-Pruning (Prune after Training): Removes branches that don’t improve model performance.\n",
    "\n",
    "**6. Advantages of Decision Trees**\n",
    "\n",
    "✅ Interpretability: Easy to understand and visualize.\n",
    "\n",
    "✅ No Need for Feature Scaling: Works well with raw data.\n",
    "\n",
    "✅ Handles Categorical & Numerical Data: Supports diverse data types.\n",
    "\n",
    "✅ Non-Parametric Model: No assumptions about data distribution.\n",
    "\n",
    "**7. Disadvantages of Decision Trees**\n",
    "\n",
    "❌ Overfitting: Grows too deep without pruning, leading to poor generalization.\n",
    "\n",
    "❌ Unstable: Small data changes can result in different structures.\n",
    "\n",
    "❌ Biased Toward Dominant Classes: In imbalanced datasets, it may favor the majority class.\n",
    "\n",
    "❌ Greedy Algorithm: Chooses local best splits, which may not be globally optimal.\n",
    "\n",
    "\n",
    "**8. Improvements & Alternatives**\n",
    "\n",
    "Random Forest: Uses multiple trees to reduce overfitting.\n",
    "\n",
    "Gradient Boosting Trees: Builds trees sequentially to correct previous errors.\n",
    "\n",
    "XGBoost, LightGBM, CatBoost: Optimized tree-based models for large datasets."
   ]
  },
  {
   "cell_type": "code",
   "id": "6606ef4be124de7b",
   "metadata": {},
   "source": [
    "# Training a Basic Decision Tree Model\n",
    "model_2 = DecisionTreeClassifier()\n",
    "model_2.fit(X_train_resampled, y_train_resampled)"
   ],
   "outputs": [],
   "execution_count": null
  },
  {
   "cell_type": "code",
   "id": "ff7dcb63061d722",
   "metadata": {},
   "source": [
    "# Make predictions on the resampled training data\n",
    "y_pred_2 = model_2.predict(X_train_resampled)\n",
    "\n",
    "# Calculate accuracy of the model on the resampled training data\n",
    "train_accuracy = accuracy_score(y_train_resampled, y_pred_2)\n",
    "\n",
    "# Optionally, round the accuracy to 2 decimal places\n",
    "train_accuracy = round(train_accuracy, 2)\n",
    "\n",
    "# Print the training accuracy\n",
    "print(f\"Training Accuracy: {train_accuracy}\")"
   ],
   "outputs": [],
   "execution_count": null
  },
  {
   "cell_type": "code",
   "id": "eb0d443474cca834",
   "metadata": {},
   "source": [
    "#test_accuracy = accuracy_score(y_test, y_pred_2)\n",
    "#test_accuracy = round(test_accuracy, 2)\n",
    "#test_accuracy"
   ],
   "outputs": [],
   "execution_count": null
  },
  {
   "cell_type": "code",
   "id": "d1ff42d994631177",
   "metadata": {},
   "source": [
    "print(f\"y_test shape: {y_test.shape}\")\n",
    "print(f\"y_pred_2 shape: {y_pred_2.shape}\")\n"
   ],
   "outputs": [],
   "execution_count": null
  },
  {
   "cell_type": "code",
   "id": "3c45966c7fbcbdbe",
   "metadata": {},
   "source": [
    "# Get the predicted probabilities for the positive class\n",
    "y_pred_proba = model_2.predict_proba(X_test_sc)[:, 1]  # Probabilities for class 1 (positive class)\n",
    "\n",
    "# Calculate the ROC AUC score\n",
    "roc_auc = roc_auc_score(y_test, y_pred_proba)*100\n",
    "\n",
    "# Print the ROC AUC score\n",
    "print(f\"ROC AUC: {roc_auc:.4f}\")"
   ],
   "outputs": [],
   "execution_count": null
  },
  {
   "cell_type": "markdown",
   "id": "b4689149967c1a9f",
   "metadata": {},
   "source": [
    "#### Hyperparameter Tuning "
   ]
  },
  {
   "cell_type": "code",
   "id": "cf5a557214a512b5",
   "metadata": {},
   "source": [
    "# Define the Decision Tree model\n",
    "model_3 = DecisionTreeClassifier(random_state=0)\n",
    "\n",
    "\n",
    "# Define the parameter grid for hyperparameter tuning\n",
    "param_dist = {\n",
    "    'criterion': ['gini', 'entropy'],  # Function to measure the quality of a split\n",
    "    'max_depth': np.arange(1, 21),  # Maximum depth of the tree\n",
    "    'min_samples_split': np.arange(2, 21),  # Minimum number of samples required to split an internal node\n",
    "    'min_samples_leaf': np.arange(1, 21),  # Minimum number of samples required to be at a leaf node\n",
    "    'max_features': ['sqrt', 'log2', None],  # Valid options for max_features\n",
    "    'random_state': [42]\n",
    "}\n",
    "\n",
    "# Set up RandomizedSearchCV with Decision Tree Classifier\n",
    "random_search = RandomizedSearchCV(\n",
    "    estimator=model_3,\n",
    "    param_distributions=param_dist,\n",
    "    n_iter=50,  # Number of parameter settings to sample\n",
    "    cv=5,  # Number of folds in cross-validation\n",
    "    random_state=42,\n",
    "    n_jobs=-1,  # Use all available cores for parallel processing\n",
    "    verbose=2\n",
    ")\n",
    "\n",
    "# Fit the model to the training data using RandomizedSearchCV\n",
    "random_search.fit(X_train_resampled, y_train_resampled)\n",
    "\n",
    "# Get the best parameters found during RandomizedSearchCV\n",
    "best_params = random_search.best_params_\n",
    "print(f\"Best Parameters: {best_params}\")\n",
    "\n",
    "# Make predictions on the test set\n",
    "y_pred = random_search.predict(X_test_sc)\n",
    "\n",
    "# Calculate accuracy of the tuned model\n",
    "test_accuracy = accuracy_score(y_test, y_pred) * 100\n",
    "test_accuracy = round(test_accuracy, 2)\n",
    "\n",
    "# Print the test accuracy\n",
    "print(f\"Test Accuracy: {test_accuracy}%\")"
   ],
   "outputs": [],
   "execution_count": null
  },
  {
   "cell_type": "markdown",
   "id": "cc29e0706dead8e6",
   "metadata": {},
   "source": [
    "#### Fitting the model based on Best Parameters\n",
    "\n"
   ]
  },
  {
   "cell_type": "code",
   "id": "541047f7162b649d",
   "metadata": {},
   "source": [
    "# Initialize the model with the best parameters\n",
    "best_model_3 = DecisionTreeClassifier(\n",
    "    random_state=42,\n",
    "    min_samples_split=7,\n",
    "    min_samples_leaf=4,\n",
    "    max_features=None,\n",
    "    max_depth=13,\n",
    "    criterion='gini'\n",
    ")\n",
    "\n",
    "# Train the model with the training data\n",
    "best_model_3.fit(X_train_resampled, y_train_resampled)\n",
    "\n",
    "# Make predictions on the test set\n",
    "y_pred_best = best_model_3.predict(X_test_sc)\n",
    "\n",
    "# Calculate accuracy of the tuned model\n",
    "test_accuracy_best = accuracy_score(y_test, y_pred_best) * 100\n",
    "test_accuracy_best = round(test_accuracy_best, 2)\n",
    "\n",
    "# Print the test accuracy\n",
    "print(f\"Test Accuracy with Tuned Model: {test_accuracy_best}%\")"
   ],
   "outputs": [],
   "execution_count": null
  },
  {
   "cell_type": "code",
   "id": "a12a01aa84829471",
   "metadata": {},
   "source": [
    "from sklearn.metrics import roc_auc_score\n",
    "# Get the predicted probabilities for the positive class\n",
    "y_pred_proba = best_model_3.predict_proba(X_test_sc)[:, 1]  # Probabilities for class 1 (positive class)\n",
    "\n",
    "# Calculate the ROC AUC score\n",
    "roc_auc = roc_auc_score(y_test, y_pred_proba)*100\n",
    "\n",
    "# Print the ROC AUC score\n",
    "print(f\"ROC AUC: {roc_auc:.4f}\")"
   ],
   "outputs": [],
   "execution_count": null
  },
  {
   "cell_type": "markdown",
   "id": "f0e708c6c7ffa655",
   "metadata": {},
   "source": [
    "### 3) RandomForest"
   ]
  },
  {
   "attachments": {
    "image.png": {
     "image/png": "[encoded data removed]"
    }
   },
   "cell_type": "markdown",
   "id": "ade870fd",
   "metadata": {},
   "source": [
    "Notes on Random Forest\n",
    "\n",
    "**1. Overview**\n",
    "\n",
    "Random Forest is an ensemble learning method that builds multiple decision trees and combines their outputs to improve accuracy and reduce overfitting. \n",
    "\n",
    "It is used for both classification and regression tasks.\n",
    "\n",
    "\n",
    "**2. How It Works**\n",
    "\n",
    "Bootstrap Sampling (Bagging):\n",
    "\n",
    "* Randomly selects subsets of data (with replacement) to train each tree.\n",
    "\n",
    "Feature Randomness:\n",
    "\n",
    "* At each split, only a random subset of features is considered to reduce correlation among trees.\n",
    "\n",
    "Aggregation:\n",
    "\n",
    "* Classification: Majority vote among trees.\n",
    "* Regression: Average prediction from all trees.\n",
    "\n",
    "**3. Key Hyperparameters**\n",
    "\n",
    "* n_estimators: Number of trees in the forest (higher = better, but computationally expensive).\n",
    "\n",
    "* max_depth: Limits tree depth to prevent overfitting.\n",
    "\n",
    "* max_features: Controls the number of features considered at each split (sqrt for classification, log2 for regression).\n",
    "\n",
    "* min_samples_split: Minimum samples required to split a node.\n",
    "\n",
    "* min_samples_leaf: Minimum samples required at a leaf node to avoid small splits.\n",
    "\n",
    "**4. Advantages**\n",
    "\n",
    "✅ Reduces Overfitting: Multiple trees generalize better.\n",
    "\n",
    "✅ Handles Missing Data: Works well with missing values.\n",
    "\n",
    "✅ Works with Large Datasets: Scalable and efficient.\n",
    "\n",
    "✅ Feature Importance: Identifies important variables.\n",
    "\n",
    "✅ Resistant to Noise: Less sensitive to small data changes.\n",
    "\n",
    "**5. Disadvantages**\n",
    "\n",
    "❌ Computationally Expensive: More trees = slower predictions.\n",
    "\n",
    "❌ Less Interpretable: Harder to visualize than a single decision tree.\n",
    "\n",
    "❌ Not Ideal for Sparse Data: Can be inefficient with high-dimensional data.\n",
    "\n",
    "**6. Random Forest vs Decision Tree**\n",
    "\n",
    "![image.png](attachment:image.png)\n"
   ]
  },
  {
   "cell_type": "code",
   "id": "ded1c1902bf39d3f",
   "metadata": {},
   "source": [
    "# Define the base Random Forest model\n",
    "base_model = RandomForestClassifier(random_state=42)\n",
    "\n",
    "# Train the model on the training data\n",
    "base_model.fit(X_train_resampled, y_train_resampled)\n",
    "\n",
    "# Make predictions on the test set\n",
    "y_pred_base = base_model.predict(X_test_sc)\n",
    "\n",
    "# Calculate accuracy of the base model\n",
    "test_accuracy_base = accuracy_score(y_test, y_pred_base) * 100\n",
    "test_accuracy_base = round(test_accuracy_base, 2)\n",
    "\n",
    "# Print the test accuracy\n",
    "print(f\"Test Accuracy of Base Random Forest Model: {test_accuracy_base}%\")"
   ],
   "outputs": [],
   "execution_count": null
  },
  {
   "cell_type": "code",
   "id": "993630b8c21a436f",
   "metadata": {},
   "source": [
    "# Get the predicted probabilities for the positive class\n",
    "y_pred_proba = base_model.predict_proba(X_test_sc)[:, 1]  # Probabilities for class 1 (positive class)\n",
    "\n",
    "# Calculate the ROC AUC score\n",
    "roc_auc = roc_auc_score(y_test, y_pred_proba)*100\n",
    "\n",
    "# Print the ROC AUC score\n",
    "print(f\"ROC AUC: {roc_auc:.4f}\")"
   ],
   "outputs": [],
   "execution_count": null
  },
  {
   "cell_type": "markdown",
   "id": "8cf558338b7f8d85",
   "metadata": {},
   "source": [
    "### Hyperparameter Tuning"
   ]
  },
  {
   "cell_type": "code",
   "id": "d51b230fcebab0cd",
   "metadata": {},
   "source": [
    "\n",
    "# Define the Random Forest model\n",
    "model = RandomForestClassifier(random_state=0)\n",
    "\n",
    "# Define the parameter grid for hyperparameter tuning\n",
    "param_dist = {\n",
    "    'n_estimators': np.arange(10, 201, 10),  # Number of trees in the forest\n",
    "    'max_features': ['sqrt', 'log2', None],  # Number of features to consider at each split\n",
    "    'max_depth': np.arange(1, 21),  # Maximum depth of the tree\n",
    "    'min_samples_split': np.arange(2, 21),  # Minimum number of samples to split a node\n",
    "    'min_samples_leaf': np.arange(1, 21),  # Minimum number of samples required at leaf nodes\n",
    "    'bootstrap': [True, False],  # Whether bootstrap samples are used when building trees\n",
    "    'random_state': [42]\n",
    "}\n",
    "\n",
    "# Set up RandomizedSearchCV with Random Forest Classifier\n",
    "random_search = RandomizedSearchCV(\n",
    "    estimator=model,\n",
    "    param_distributions=param_dist,\n",
    "    n_iter=50,  # Number of parameter settings to sample\n",
    "    cv=5,  # Number of folds in cross-validation\n",
    "    random_state=42,\n",
    "    n_jobs=-1,  # Use all available cores for parallel processing\n",
    "    verbose=2\n",
    ")\n",
    "\n",
    "# Fit the model to the training data using RandomizedSearchCV\n",
    "random_search.fit(X_train_resampled, y_train_resampled)\n",
    "\n",
    "# Get the best parameters found during RandomizedSearchCV\n",
    "best_params = random_search.best_params_\n",
    "print(f\"Best Parameters: {best_params}\")\n",
    "\n",
    "# Make predictions on the test set\n",
    "y_pred = random_search.predict(X_test_sc)\n",
    "\n",
    "# Calculate accuracy of the tuned model\n",
    "test_accuracy = accuracy_score(y_test, y_pred) * 100\n",
    "test_accuracy = round(test_accuracy, 2)\n",
    "\n",
    "# Print the test accuracy\n",
    "print(f\"Test Accuracy: {test_accuracy}%\")"
   ],
   "outputs": [],
   "execution_count": null
  },
  {
   "cell_type": "markdown",
   "id": "d5a4cd86aec3f8a2",
   "metadata": {},
   "source": [
    "### Fitting Best Parameters to Random Forest Model"
   ]
  },
  {
   "cell_type": "code",
   "id": "81a8ed1e3b56e9b6",
   "metadata": {},
   "source": [
    "# Initialize the Random Forest model with the best parameters\n",
    "best_model_rf = RandomForestClassifier(\n",
    "    random_state=42,\n",
    "    n_estimators=100,\n",
    "    min_samples_split=15,\n",
    "    min_samples_leaf=1,\n",
    "    max_features='log2',\n",
    "    max_depth=15,\n",
    "    bootstrap=True\n",
    ")\n",
    "\n",
    "# Train the model with the training data\n",
    "best_model_rf.fit(X_train_resampled, y_train_resampled)\n",
    "\n",
    "# Make predictions on the test set\n",
    "y_pred_rf = best_model_rf.predict(X_test_sc)\n",
    "\n",
    "# Calculate accuracy of the tuned model\n",
    "test_accuracy_rf = accuracy_score(y_test, y_pred_rf) * 100\n",
    "test_accuracy_rf = round(test_accuracy_rf, 2)\n",
    "\n",
    "# Print the test accuracy\n",
    "print(f\"Test Accuracy of Tuned Random Forest Model: {test_accuracy_rf}%\")"
   ],
   "outputs": [],
   "execution_count": null
  },
  {
   "cell_type": "code",
   "id": "82c23ef0136891f8",
   "metadata": {},
   "source": [
    "# Get the predicted probabilities for the positive class\n",
    "y_pred_proba = best_model_rf.predict_proba(X_test_sc)[:, 1]  # Probabilities for class 1 (positive class)\n",
    "\n",
    "# Calculate the ROC AUC score\n",
    "roc_auc = roc_auc_score(y_test, y_pred_proba)*100\n",
    "\n",
    "# Print the ROC AUC score\n",
    "print(f\"ROC AUC: {roc_auc:.4f}\")"
   ],
   "outputs": [],
   "execution_count": null
  },
  {
   "cell_type": "markdown",
   "id": "2318696f81d5ff27",
   "metadata": {},
   "source": [
    "## 4) XGBoost"
   ]
  },
  {
   "attachments": {
    "image.png": {
     "image/png": "[encoded data removed]"
    }
   },
   "cell_type": "markdown",
   "id": "41e149a0",
   "metadata": {},
   "source": [
    "**1. Overview**\n",
    "\n",
    "XGBoost (eXtreme Gradient Boosting) is a powerful, optimized gradient boosting algorithm used for classification and regression. \n",
    "\n",
    "It is known for its speed, accuracy, and handling of large datasets.\n",
    "\n",
    "**2. Key Features**\n",
    "\n",
    "✅ Boosting Method: Improves predictions by sequentially correcting errors of previous trees.\n",
    "\n",
    "✅ Regularization (L1 & L2): Reduces overfitting, making it better than standard boosting.\n",
    "\n",
    "✅ Parallelization: Uses multiple CPU cores, making it faster than traditional gradient boosting.\n",
    "\n",
    "✅ Handles Missing Data: Automatically learns best splits for missing values.\n",
    "\n",
    "✅ Tree Pruning: Uses a \"max depth\" parameter instead of pre-pruning.\n",
    "\n",
    "✅ Built-in Cross-Validation: Improves model tuning efficiency.\n",
    "\n",
    "**3. How It Works**\n",
    "\n",
    "Boosting Process:\n",
    "\n",
    "* Trees are built sequentially, correcting errors from previous trees.\n",
    "\n",
    "* Uses gradient descent to minimize the loss function.\n",
    "\n",
    "Weighted Trees:\n",
    "\n",
    "* New trees focus more on misclassified samples from prior trees.\n",
    "\n",
    "Final Prediction:\n",
    "\n",
    "* Classification: Weighted majority vote.\n",
    "\n",
    "* Regression: Weighted average of tree predictions.\n",
    "\n",
    "4. Key Hyperparameters\n",
    "\n",
    "* n_estimators: Number of trees (higher can improve performance but increases training time).\n",
    "\n",
    "* learning_rate (eta): Shrinks each tree’s contribution (small values improve generalization).\n",
    "\n",
    "* max_depth: Limits tree depth to control complexity.\n",
    "\n",
    "* subsample: Percentage of training data used per tree (prevents overfitting).\n",
    "\n",
    "* colsample_bytree: Number of features randomly selected per tree.\n",
    "\n",
    "* lambda (L2 regularization) & alpha (L1 regularization): Prevents overfitting.\n",
    "\n",
    "5. Advantages\n",
    "\n",
    "✅ Fast & Scalable: Optimized for speed and large datasets.\n",
    "\n",
    "✅ Handles Missing Values: No need for imputation.\n",
    "\n",
    "✅ Prevents Overfitting: Regularization and early stopping help generalization.\n",
    "\n",
    "✅ Works with Imbalanced Data: Supports weighted classes.\n",
    "\n",
    "6. Disadvantages\n",
    "\n",
    "❌ Computationally Expensive: Requires more memory and tuning than simpler models.\n",
    "\n",
    "❌ Hyperparameter Tuning Needed: Performance depends on careful tuning.\n",
    "\n",
    "❌ Less Interpretable: Harder to explain compared to decision trees.\n",
    "\n",
    "\n",
    "![image.png](attachment:image.png)"
   ]
  },
  {
   "cell_type": "code",
   "id": "4284f3285e310c6c",
   "metadata": {},
   "source": [
    "import xgboost as xgb\n",
    "# Initialize the XGBoost classifier\n",
    "xgboost_model = xgb.XGBClassifier(random_state=0)\n",
    "\n",
    "# Define the hyperparameter grid for RandomizedSearchCV\n",
    "param_dist = {\n",
    "    'n_estimators': np.arange(50, 301, 50),\n",
    "    'max_depth': np.arange(3, 15, 2),\n",
    "    'learning_rate': [0.01, 0.05, 0.1, 0.2],\n",
    "    'subsample': [0.6, 0.8, 1.0],\n",
    "    'colsample_bytree': [0.6, 0.8, 1.0],\n",
    "    'gamma': [0, 0.1, 0.2, 0.3],\n",
    "    'min_child_weight': [1, 5, 10]\n",
    "}\n",
    "\n",
    "# Set up RandomizedSearchCV for hyperparameter tuning\n",
    "random_search = RandomizedSearchCV(estimator=xgboost_model, param_distributions=param_dist, \n",
    "                                   n_iter=10, cv=3, verbose=2, random_state=0, n_jobs=-1)\n",
    "\n",
    "# Fit the RandomizedSearchCV\n",
    "random_search.fit(X_train_resampled, y_train_resampled)\n",
    "\n",
    "# Best parameters found by RandomizedSearchCV\n",
    "best_params = random_search.best_params_\n",
    "print(f\"Best Parameters: {best_params}\")\n",
    "\n",
    "# Train the model with the best parameters\n",
    "best_model_4 = random_search.best_estimator_\n",
    "\n",
    "# Make predictions\n",
    "y_pred_4 = best_model_4.predict(X_test_sc)\n",
    "\n",
    "# Evaluate the model\n",
    "accuracy = accuracy_score(y_test, y_pred_4)\n",
    "print(f\"Accuracy: {accuracy:.4f}\")\n",
    "print(classification_report(y_test, y_pred_4))\n"
   ],
   "outputs": [],
   "execution_count": null
  },
  {
   "cell_type": "markdown",
   "id": "ba466f1a9466aa99",
   "metadata": {},
   "source": [
    "### Best Parameter From XGBoost"
   ]
  },
  {
   "cell_type": "code",
   "id": "20f2e10c7e8e5cbf",
   "metadata": {},
   "source": [
    "# Initialize the XGBoost model with the best parameters\n",
    "xgboost_model = xgb.XGBClassifier(**best_params, random_state=0)\n",
    "\n",
    "# Train the model with the training data\n",
    "xgboost_model.fit(X_train_resampled, y_train_resampled)\n",
    "\n",
    "# Make predictions on the test set\n",
    "y_pred = xgboost_model.predict(X_test_sc)\n",
    "\n",
    "# Evaluate the model\n",
    "accuracy = accuracy_score(y_test, y_pred)\n",
    "print(f\"Accuracy: {accuracy:.4f}\")\n",
    "print(classification_report(y_test, y_pred))\n",
    "\n",
    "# Feature Importance visualization\n",
    "#xgb.plot_importance(xgboost_model, importance_type=\"weight\", max_num_features=10)\n",
    "#plt.title(\"Top 10 Feature Importance (XGBoost)\")\n",
    "#plt.show()"
   ],
   "outputs": [],
   "execution_count": null
  },
  {
   "cell_type": "code",
   "id": "5aa7937005d1077c",
   "metadata": {},
   "source": [
    "# Get the predicted probabilities for the positive class\n",
    "y_pred_proba = xgboost_model.predict_proba(X_test_sc)[:, 1]  # Probabilities for class 1 (positive class)\n",
    "\n",
    "# Calculate the ROC AUC score\n",
    "roc_auc = roc_auc_score(y_test, y_pred_proba)*100\n",
    "\n",
    "# Print the ROC AUC score\n",
    "print(f\"ROC AUC: {roc_auc:.4f}\")"
   ],
   "outputs": [],
   "execution_count": null
  },
  {
   "cell_type": "markdown",
   "id": "5bddaef4",
   "metadata": {},
   "source": [
    "### Hyperparameter Tuning in XGBoost\n",
    "\n",
    "Proper tuning of XGBoost parameters is crucial for achieving the best model performance.\n",
    "\n",
    "Below are the most important hyperparameters and how to optimize them.\n",
    "\n",
    "**1. Core Hyperparameters**\n",
    "\n",
    "1.1. Number of Trees (n_estimators)\n",
    "\n",
    "* Controls the number of boosting rounds (trees).\n",
    "* More trees improve performance but increase computation time and risk overfitting.\n",
    "\n",
    "Tuning Strategy:\n",
    "\n",
    "* Start with 100-500 trees and use early stopping to find the optimal number.\n",
    "\n",
    "1.2. Learning Rate (learning_rate or eta)\n",
    "\n",
    "Shrinks the contribution of each new tree to avoid overfitting.\n",
    "\n",
    "Lower values (e.g., 0.01 - 0.1) require more trees but improve generalization.\n",
    "\n",
    "Tuning Strategy:\n",
    "Start with 0.1, then adjust based on validation performance.\n",
    "\n",
    "1.3. Maximum Tree Depth (max_depth)\n",
    "\n",
    "* Controls the complexity of trees.\n",
    "\n",
    "* Deeper trees (e.g., >10) increase the risk of overfitting.\n",
    "\n",
    "* Shallow trees (e.g., <3) may underfit.\n",
    "\n",
    "Tuning Strategy:\n",
    "\n",
    "* Try values from 3 to 10.\n",
    "\n",
    "* Use cross-validation to balance depth and performance.\n",
    "\n",
    "**2. Regularization Parameters**\n",
    "\n",
    "2.1. L1 Regularization (alpha)\n",
    "\n",
    "* Reduces the number of features by shrinking less important ones to zero.\n",
    "\n",
    "* Useful for high-dimensional, sparse data.\n",
    "\n",
    "Tuning Strategy:\n",
    "\n",
    "* Test values: 0, 0.1, 1, 10.\n",
    "\n",
    "* Higher values lead to more feature selection.\n",
    "\n",
    "2.2. L2 Regularization (lambda)\n",
    "\n",
    "* Reduces overfitting by penalizing large weights.\n",
    "\n",
    "* Helps with collinear features.\n",
    "\n",
    "Tuning Strategy:\n",
    "\n",
    "* Start with 1.\n",
    "\n",
    "* Increase to 5-10 if overfitting is detected.\n",
    "\n",
    "2.3. Minimum Child Weight (min_child_weight)\n",
    "\n",
    "* Controls the minimum sum of weights needed to create a new node.\n",
    "\n",
    "* Higher values prevent small, noisy splits.\n",
    "\n",
    "Tuning Strategy:\n",
    "\n",
    "* Test values: 1, 5, 10.\n",
    "\n",
    "* Higher values prevent overfitting.\n",
    "\n",
    "**3. Subsampling Parameters (To Reduce Overfitting)**\n",
    "\n",
    "3.1. Subsample (subsample)\n",
    "\n",
    "* Fraction of training samples used in each tree.\n",
    "\n",
    "* Lower values (e.g., 0.6 - 0.9) prevent overfitting.\n",
    "\n",
    "Tuning Strategy:\n",
    "\n",
    "* Try 0.6 to 1.0.\n",
    "\n",
    "* 0.8 is a good starting point.\n",
    "\n",
    "3.2. Feature Sampling (colsample_bytree)\n",
    "\n",
    "* Fraction of features randomly selected per tree.\n",
    "\n",
    "* Lower values (e.g., 0.5 - 0.8) prevent overfitting.\n",
    "\n",
    "Tuning Strategy:\n",
    "\n",
    "* Start with 0.8.\n",
    "\n",
    "* Reduce if overfitting occurs.\n",
    "\n",
    "**4. Optimization Strategy**\n",
    "\n",
    "(a) Start with Default Values\n",
    "\n",
    "n_estimators=100, learning_rate=0.1, max_depth=6, subsample=0.8, colsample_bytree=0.8.\n",
    "\n",
    "(b) Use Grid Search or Random Search\n",
    "\n",
    "* Grid Search: Exhaustively tries all parameter combinations (slow but precise).\n",
    "\n",
    "* Random Search: Tests random combinations, finding good values faster.\n",
    "\n",
    "(c) Use Bayesian Optimization (Advanced)\n",
    "\n",
    "More efficient than grid/random search for large datasets.\n",
    "\n",
    "(d) Apply Early Stopping\n",
    "\n",
    "Set early_stopping_rounds=10-50 using a validation set to stop training when performance stops improving.\n",
    "\n",
    "\n",
    "**5. Practical Tuning Example**\n",
    "\n",
    "Step 1: Tune Tree-Based Parameters\n",
    "\n",
    "* max_depth: Try 3, 5, 7, 9.\n",
    "\n",
    "* min_child_weight: Try 1, 3, 5.\n",
    "\n",
    "Step 2: Tune Regularization\n",
    "\n",
    "* alpha: Try 0, 0.1, 1.\n",
    "\n",
    "* lambda: Try 1, 5, 10.\n",
    "\n",
    "Step 3: Tune Learning Rate & n_estimators\n",
    "\n",
    "* Lower learning_rate and increase n_estimators.\n",
    "\n",
    "Step 4: Tune Subsampling\n",
    "\n",
    "* subsample: Try 0.6, 0.8, 1.0.\n",
    "\n",
    "* colsample_bytree: Try 0.6, 0.8, 1.0."
   ]
  },
  {
   "cell_type": "markdown",
   "id": "47b5feef2e2833f2",
   "metadata": {},
   "source": [
    "### Hyperparameter Tuning XGBoost"
   ]
  },
  {
   "cell_type": "code",
   "id": "8d4c974a42e400b2",
   "metadata": {
    "ExecuteTime": {
     "end_time": "2025-02-23T03:21:44.794538Z",
     "start_time": "2025-02-23T03:20:24.794696Z"
    }
   },
   "source": [
    "# Initialize the XGBoost classifier\n",
    "xgboost_model_1 = xgb.XGBClassifier(random_state=0)\n",
    "\n",
    "# Define the hyperparameter grid for RandomizedSearchCV\n",
    "param_dist = {\n",
    "    'n_estimators': np.arange(50, 301, 50),  # Number of trees in the model\n",
    "    'max_depth': np.arange(3, 15, 2),         # Depth of the trees\n",
    "    'learning_rate': [0.01, 0.05, 0.1, 0.2], # Step size at each iteration\n",
    "    'subsample': [0.6, 0.8, 1.0],            # Proportion of samples to use per tree\n",
    "    'colsample_bytree': [0.6, 0.8, 1.0],     # Proportion of features to use per tree\n",
    "    'gamma': [0, 0.1, 0.2, 0.3],             # Minimum loss reduction required to split a node\n",
    "    'min_child_weight': [1, 5, 10]            # Minimum sum of instance weight in a child node\n",
    "}\n",
    "\n",
    "# Set up RandomizedSearchCV\n",
    "random_search = RandomizedSearchCV(\n",
    "    estimator=xgboost_model, \n",
    "    param_distributions=param_dist, \n",
    "    n_iter=50,   # Number of parameter settings to sample\n",
    "    cv=3,        # Number of folds in cross-validation\n",
    "    verbose=2,   # Print progress\n",
    "    random_state=42,  # Random state for reproducibility\n",
    "    n_jobs=-1,   # Use all available cores for parallel processing\n",
    "    scoring='accuracy'  # Optimize for accuracy\n",
    ")\n",
    "\n",
    "# Fit the model to the training data using RandomizedSearchCV\n",
    "random_search.fit(X_train_resampled, y_train_resampled)\n",
    "\n",
    "# Get the best parameters found during RandomizedSearchCV\n",
    "best_params = random_search.best_params_\n",
    "print(f\"Best Parameters: {best_params}\")\n",
    "\n",
    "# Train the model with the best parameters\n",
    "best_model_XGBoost = random_search.best_estimator_\n",
    "\n",
    "# Make predictions on the test set\n",
    "y_pred = best_model_XGBoost.predict(X_test_sc)\n",
    "\n",
    "# Evaluate the model\n",
    "from sklearn.metrics import accuracy_score, classification_report\n",
    "accuracy = accuracy_score(y_test, y_pred)\n",
    "print(f\"Accuracy: {accuracy:.4f}\")\n",
    "print(classification_report(y_test, y_pred))\n",
    "\n"
   ],
   "outputs": [
    {
     "name": "stdout",
     "output_type": "stream",
     "text": [
      "Fitting 3 folds for each of 50 candidates, totalling 150 fits\n",
      "Best Parameters: {'subsample': 0.6, 'n_estimators': np.int64(200), 'min_child_weight': 5, 'max_depth': np.int64(9), 'learning_rate': 0.01, 'gamma': 0, 'colsample_bytree': 0.6}\n",
      "Accuracy: 0.8336\n",
      "              precision    recall  f1-score   support\n",
      "\n",
      "           0       0.87      0.93      0.90      4152\n",
      "           1       0.65      0.48      0.55      1120\n",
      "\n",
      "    accuracy                           0.83      5272\n",
      "   macro avg       0.76      0.71      0.72      5272\n",
      "weighted avg       0.82      0.83      0.82      5272\n",
      "\n"
     ]
    }
   ],
   "execution_count": 241
  },
  {
   "cell_type": "code",
   "id": "d3816ccf975b96fb",
   "metadata": {
    "ExecuteTime": {
     "end_time": "2025-02-23T03:22:00.089908Z",
     "start_time": "2025-02-23T03:22:00.070543Z"
    }
   },
   "source": [
    "# Get the predicted probabilities for the positive class\n",
    "y_pred_proba = best_model_XGBoost.predict_proba(X_test_sc)[:, 1]  # Probabilities for class 1 (positive class)\n",
    "\n",
    "# Calculate the ROC AUC score\n",
    "roc_auc = roc_auc_score(y_test, y_pred_proba)*100\n",
    "\n",
    "# Print the ROC AUC score\n",
    "print(f\"ROC AUC: {roc_auc:.4f}\")"
   ],
   "outputs": [
    {
     "name": "stdout",
     "output_type": "stream",
     "text": [
      "ROC AUC: 82.8718\n"
     ]
    }
   ],
   "execution_count": 242
  },
  {
   "metadata": {},
   "cell_type": "markdown",
   "source": [
    "\n",
    "## Feature Importance\n",
    "\n",
    "This section will answer this question\n",
    "\n",
    "What were the most important features (demographic, behavioral, and attitudinal) for predicting H1N1 vaccine uptake using machine learning models? (Feature Importance)"
   ],
   "id": "8a0022e5bfe83fd4"
  },
  {
   "metadata": {
    "ExecuteTime": {
     "end_time": "2025-02-23T03:42:07.247269Z",
     "start_time": "2025-02-23T03:42:07.013284Z"
    }
   },
   "cell_type": "code",
   "source": [
    "# Feature Importance visualization\n",
    "\n",
    "feature_names = [\n",
    "    \"h1n1_concern\", \"h1n1_knowledge\", \"behavioral_antiviral_meds\", \n",
    "    \"behavioral_avoidance\", \"behavioral_face_mask\", \"behavioral_wash_hands\", \n",
    "    \"behavioral_large_gatherings\", \"behavioral_outside_home\", \"behavioral_touch_face\", \n",
    "    \"doctor_recc_h1n1\", \"chronic_med_condition\", \"child_under_6_months\", \"health_worker\", \n",
    "    \"opinion_h1n1_vacc_effective\", \"opinion_h1n1_risk\", \"opinion_h1n1_sick_from_vacc\", \n",
    "    \"age_group\", \"education\", \"race\", \"sex\", \"income_poverty\", \"marital_status\", \n",
    "    \"employment_status\", \"household_adults\", \"household_children\"\n",
    "]\n",
    "xgb.plot_importance(best_model_XGBoost)\n",
    "plt.title(\"Feature Importance (XGBoost)\")\n",
    "plt.show()"
   ],
   "id": "5c647fb9ed7442cf",
   "outputs": [
    {
     "data": {
      "text/plain": [
       "<Figure size 640x480 with 1 Axes>"
      ],
      "image/png": "[encoded data removed]"
     },
     "metadata": {},
     "output_type": "display_data"
    }
   ],
   "execution_count": 245
  },
  {
   "cell_type": "code",
   "id": "c8fdd6d66663ec1b",
   "metadata": {
    "ExecuteTime": {
     "end_time": "2025-02-23T03:43:02.820910Z",
     "start_time": "2025-02-23T03:43:02.815983Z"
    }
   },
   "source": [
    "# Create a mapping from f0, f1, ... to actual feature names\n",
    "feature_mapping = {f\"f{i}\": feature_names[i] for i in range(len(feature_names))}\n",
    "\n",
    "# Example: Print out mapped feature names\n",
    "for feature, name in feature_mapping.items():\n",
    "    print(f\"{feature} -> {name}\")"
   ],
   "outputs": [
    {
     "name": "stdout",
     "output_type": "stream",
     "text": [
      "f0 -> h1n1_concern\n",
      "f1 -> h1n1_knowledge\n",
      "f2 -> behavioral_antiviral_meds\n",
      "f3 -> behavioral_avoidance\n",
      "f4 -> behavioral_face_mask\n",
      "f5 -> behavioral_wash_hands\n",
      "f6 -> behavioral_large_gatherings\n",
      "f7 -> behavioral_outside_home\n",
      "f8 -> behavioral_touch_face\n",
      "f9 -> doctor_recc_h1n1\n",
      "f10 -> chronic_med_condition\n",
      "f11 -> child_under_6_months\n",
      "f12 -> health_worker\n",
      "f13 -> opinion_h1n1_vacc_effective\n",
      "f14 -> opinion_h1n1_risk\n",
      "f15 -> opinion_h1n1_sick_from_vacc\n",
      "f16 -> age_group\n",
      "f17 -> education\n",
      "f18 -> race\n",
      "f19 -> sex\n",
      "f20 -> income_poverty\n",
      "f21 -> marital_status\n",
      "f22 -> employment_status\n",
      "f23 -> household_adults\n",
      "f24 -> household_children\n"
     ]
    }
   ],
   "execution_count": 246
  },
  {
   "metadata": {},
   "cell_type": "markdown",
   "source": [
    "The feature importance analysis from the XGBoost model highlights that age group (f16), opinion on getting sick from the vaccine, opinion on H1N1 vaccine risk (f14), and H1N1 concern (f0) are the most critical factors. This suggests that age demographics and risk perception play a significant role in predicting vaccination decisions. Education (f17), race (f18), and sex (f19) also have substantial importance, indicating that demographic and societal factors strongly influence vaccination behavior.\n",
    "\n",
    "In contrast, features such as household adults (f23), household children (f24), and behavioral antiviral medication use (f2) have minimal impact. This suggests that household composition and certain preventive behaviors are not strong predictors in this model.\n",
    "\n"
   ],
   "id": "be459f128dd33c"
  },
  {
   "metadata": {},
   "cell_type": "markdown",
   "source": [
    "## Recommendations and Concusion \n",
    "\n",
    "Age-Specific Outreach: Since age is the most significant predictor, vaccination campaigns should tailor messaging based on age group concerns and preferences.\n",
    "\n",
    "Risk Perception Awareness: Misconceptions about the vaccine’s risk are highly influential. Public health campaigns should focus on correcting misinformation.\n",
    "\n",
    "Targeted Education Programs: Given the importance of education and race, community engagement efforts should be adjusted for different educational backgrounds and cultural perspectives.\n",
    "\n",
    "Doctor Involvement: Medical professionals should be leveraged to improve vaccine acceptance, as doctor recommendations (f9) and chronic medical conditions (f10) are among the influential factors.\n",
    "\n",
    "Refinement of Public Health Strategies: More emphasis should be placed on factors with higher predictive power while deprioritizing less relevant features like household structure and certain behavioral aspects.\n",
    "\n",
    "These insights can help improve vaccine uptake by focusing resources on the most impactful factors influencing decision-making."
   ],
   "id": "8b9f99a49d042a87"
  },
  {
   "metadata": {},
   "cell_type": "code",
   "outputs": [],
   "execution_count": null,
   "source": "",
   "id": "b6ed87a4db2dec4c"
  }
 ],
 "metadata": {
  "kernelspec": {
   "display_name": "base",
   "language": "python",
   "name": "python3"
  },
  "language_info": {
   "codemirror_mode": {
    "name": "ipython",
    "version": 3
   },
   "file_extension": ".py",
   "mimetype": "text/x-python",
   "name": "python",
   "nbconvert_exporter": "python",
   "pygments_lexer": "ipython3",
   "version": "3.12.3"
  }
 },
 "nbformat": 4,
 "nbformat_minor": 5
}
